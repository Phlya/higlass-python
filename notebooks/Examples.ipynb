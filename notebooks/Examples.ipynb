{
 "cells": [
  {
   "cell_type": "code",
   "execution_count": 12,
   "metadata": {},
   "outputs": [
    {
     "name": "stdout",
     "output_type": "stream",
     "text": [
      "The autoreload extension is already loaded. To reload it, use:\n",
      "  %reload_ext autoreload\n"
     ]
    }
   ],
   "source": [
    "%load_ext autoreload\n",
    "%autoreload 2\n",
    "%matplotlib inline"
   ]
  },
  {
   "cell_type": "code",
   "execution_count": 13,
   "metadata": {},
   "outputs": [
    {
     "name": "stdout",
     "output_type": "stream",
     "text": [
      "self.diskcache_directory /tmp/hgflask/dc True\n",
      "starting fuse\n",
      "dc_dir /tmp/hgflask/dc 33554432\n",
      "starting fuse\n",
      "dc_dir /tmp/hgflask/dc 33554432\n",
      "terminating: EpgAxnjrRPqSH_oVjm7akA\n",
      " * Serving Flask app \"higlass.server\" (lazy loading)\n",
      " * Environment: production\n",
      "   WARNING: Do not use the development server in a production environment.\n",
      "   Use a production WSGI server instead.\n",
      " * Debug mode: on\n",
      "******** filepath: /tmp/higlass-python/hpp////hgdownload.cse.ucsc.edu/goldenpath/hg19/encodeDCC/wgEncodeSydhTfbs/wgEncodeSydhTfbsGm12878InputStdSig.bigWig..\n",
      "******** filepath: /tmp/higlass-python/hpps////s3.amazonaws.com/pkerp/public/Dixon2012-J1-NcoI-R1-filtered.100kb.multires.cool..\n"
     ]
    },
    {
     "name": "stderr",
     "output_type": "stream",
     "text": [
      "Traceback (most recent call last):\n",
      "  File \"/Users/pete/miniconda3/envs/cenv4/lib/python3.6/site-packages/flask/app.py\", line 2309, in __call__\n",
      "    return self.wsgi_app(environ, start_response)\n",
      "  File \"/Users/pete/miniconda3/envs/cenv4/lib/python3.6/site-packages/flask/app.py\", line 2295, in wsgi_app\n",
      "    response = self.handle_exception(e)\n",
      "  File \"/Users/pete/miniconda3/envs/cenv4/lib/python3.6/site-packages/flask_cors/extension.py\", line 161, in wrapped_function\n",
      "    return cors_after_request(app.make_response(f(*args, **kwargs)))\n",
      "  File \"/Users/pete/miniconda3/envs/cenv4/lib/python3.6/site-packages/flask/app.py\", line 1741, in handle_exception\n",
      "    reraise(exc_type, exc_value, tb)\n",
      "  File \"/Users/pete/miniconda3/envs/cenv4/lib/python3.6/site-packages/flask/_compat.py\", line 35, in reraise\n",
      "    raise value\n",
      "  File \"/Users/pete/miniconda3/envs/cenv4/lib/python3.6/site-packages/flask/app.py\", line 2292, in wsgi_app\n",
      "    response = self.full_dispatch_request()\n",
      "  File \"/Users/pete/miniconda3/envs/cenv4/lib/python3.6/site-packages/flask/app.py\", line 1815, in full_dispatch_request\n",
      "    rv = self.handle_user_exception(e)\n",
      "  File \"/Users/pete/miniconda3/envs/cenv4/lib/python3.6/site-packages/flask_cors/extension.py\", line 161, in wrapped_function\n",
      "    return cors_after_request(app.make_response(f(*args, **kwargs)))\n",
      "  File \"/Users/pete/miniconda3/envs/cenv4/lib/python3.6/site-packages/flask/app.py\", line 1718, in handle_user_exception\n",
      "    reraise(exc_type, exc_value, tb)\n",
      "  File \"/Users/pete/miniconda3/envs/cenv4/lib/python3.6/site-packages/flask/_compat.py\", line 35, in reraise\n",
      "    raise value\n",
      "  File \"/Users/pete/miniconda3/envs/cenv4/lib/python3.6/site-packages/flask/app.py\", line 1813, in full_dispatch_request\n",
      "    rv = self.dispatch_request()\n",
      "  File \"/Users/pete/miniconda3/envs/cenv4/lib/python3.6/site-packages/flask/app.py\", line 1799, in dispatch_request\n",
      "    return self.view_functions[rule.endpoint](**req.view_args)\n",
      "  File \"/Users/pete/projects/higlass-python/higlass/server.py\", line 207, in tiles\n",
      "    tiles.extend(ts.tiles(tids))\n",
      "  File \"/Users/pete/projects/higlass-python/higlass/tilesets.py\", line 43, in tiles\n",
      "    return self.tiles_fn(tile_ids)\n",
      "  File \"/Users/pete/projects/higlass-python/higlass/tilesets.py\", line 51, in <lambda>\n",
      "    tiles=lambda tids: hgco.tiles(filepath, tids),\n",
      "  File \"/Users/pete/projects/clodius/clodius/tiles/cooler.py\", line 559, in tiles\n",
      "    generated_tiles = generate_tiles(filepath, new_tile_ids)\n",
      "  File \"/Users/pete/projects/clodius/clodius/tiles/cooler.py\", line 590, in generate_tiles\n",
      "    make_mats(filepath)\n",
      "  File \"/Users/pete/projects/clodius/clodius/tiles/cooler.py\", line 456, in make_mats\n",
      "    f = h5py.File(filepath, 'r')\n",
      "  File \"/Users/pete/miniconda3/envs/cenv4/lib/python3.6/site-packages/h5py/_hl/files.py\", line 272, in __init__\n",
      "    fid = make_fid(name, mode, userblock_size, fapl, swmr=swmr)\n",
      "  File \"/Users/pete/miniconda3/envs/cenv4/lib/python3.6/site-packages/h5py/_hl/files.py\", line 92, in make_fid\n",
      "    fid = h5f.open(name, flags, fapl=fapl)\n",
      "  File \"h5py/_objects.pyx\", line 54, in h5py._objects.with_phil.wrapper (/private/var/folders/my/m6ynh3bn6tq06h7xr3js0z7r0000gn/T/pip-z0d9zbgm-build/h5py/_objects.c:2853)\n",
      "    \n",
      "  File \"h5py/_objects.pyx\", line 55, in h5py._objects.with_phil.wrapper (/private/var/folders/my/m6ynh3bn6tq06h7xr3js0z7r0000gn/T/pip-z0d9zbgm-build/h5py/_objects.c:2811)\n",
      "    \n",
      "  File \"h5py/h5f.pyx\", line 76, in h5py.h5f.open (/private/var/folders/my/m6ynh3bn6tq06h7xr3js0z7r0000gn/T/pip-z0d9zbgm-build/h5py/h5f.c:2099)\n",
      "    \n",
      "OSError: Unable to open file (Unable to open file: name = '/tmp/higlass-python/hpps////s3.amazonaws.com/pkerp/public/dixon2012-j1-ncoi-r1-filtered.100kb.multires.cool..', errno = 5, error message = 'input/output error', flags = 0, o_flags = 0)\n",
      "Traceback (most recent call last):\n",
      "  File \"/Users/pete/miniconda3/envs/cenv4/lib/python3.6/site-packages/flask/app.py\", line 2309, in __call__\n",
      "    return self.wsgi_app(environ, start_response)\n",
      "  File \"/Users/pete/miniconda3/envs/cenv4/lib/python3.6/site-packages/flask/app.py\", line 2295, in wsgi_app\n",
      "    response = self.handle_exception(e)\n",
      "  File \"/Users/pete/miniconda3/envs/cenv4/lib/python3.6/site-packages/flask_cors/extension.py\", line 161, in wrapped_function\n",
      "    return cors_after_request(app.make_response(f(*args, **kwargs)))\n",
      "  File \"/Users/pete/miniconda3/envs/cenv4/lib/python3.6/site-packages/flask/app.py\", line 1741, in handle_exception\n",
      "    reraise(exc_type, exc_value, tb)\n",
      "  File \"/Users/pete/miniconda3/envs/cenv4/lib/python3.6/site-packages/flask/_compat.py\", line 35, in reraise\n",
      "    raise value\n",
      "  File \"/Users/pete/miniconda3/envs/cenv4/lib/python3.6/site-packages/flask/app.py\", line 2292, in wsgi_app\n",
      "    response = self.full_dispatch_request()\n",
      "  File \"/Users/pete/miniconda3/envs/cenv4/lib/python3.6/site-packages/flask/app.py\", line 1815, in full_dispatch_request\n",
      "    rv = self.handle_user_exception(e)\n",
      "  File \"/Users/pete/miniconda3/envs/cenv4/lib/python3.6/site-packages/flask_cors/extension.py\", line 161, in wrapped_function\n",
      "    return cors_after_request(app.make_response(f(*args, **kwargs)))\n",
      "  File \"/Users/pete/miniconda3/envs/cenv4/lib/python3.6/site-packages/flask/app.py\", line 1718, in handle_user_exception\n",
      "    reraise(exc_type, exc_value, tb)\n",
      "  File \"/Users/pete/miniconda3/envs/cenv4/lib/python3.6/site-packages/flask/_compat.py\", line 35, in reraise\n",
      "    raise value\n",
      "  File \"/Users/pete/miniconda3/envs/cenv4/lib/python3.6/site-packages/flask/app.py\", line 1813, in full_dispatch_request\n",
      "    rv = self.dispatch_request()\n",
      "  File \"/Users/pete/miniconda3/envs/cenv4/lib/python3.6/site-packages/flask/app.py\", line 1799, in dispatch_request\n",
      "    return self.view_functions[rule.endpoint](**req.view_args)\n",
      "  File \"/Users/pete/projects/higlass-python/higlass/server.py\", line 207, in tiles\n",
      "    tiles.extend(ts.tiles(tids))\n",
      "  File \"/Users/pete/projects/higlass-python/higlass/tilesets.py\", line 43, in tiles\n",
      "    return self.tiles_fn(tile_ids)\n",
      "  File \"/Users/pete/projects/higlass-python/higlass/tilesets.py\", line 60, in <lambda>\n",
      "    tiles=lambda tids: hgbi.tiles(filepath, tids, chromsizes=chromsizes),\n",
      "  File \"/Users/pete/projects/clodius/clodius/tiles/bigwig.py\", line 248, in tiles\n",
      "    chromsizes_to_use = get_chromsizes(bwpath)\n",
      "  File \"/Users/pete/projects/clodius/clodius/tiles/bigwig.py\", line 82, in get_chromsizes\n",
      "    chromsizes = bbi.chromsizes(bwpath)\n",
      "  File \"bbi/cbbi.pyx\", line 137, in bbi.cbbi.chromsizes\n",
      "    \n",
      "  File \"bbi/cbbi.pyx\", line 50, in bbi.cbbi._check_sig\n",
      "    \n",
      "  File \"bbi/cbbi.pyx\", line 38, in bbi.cbbi._read_magic\n",
      "    \n",
      "  File \"bbi/cbbi.pyx\", line 39, in bbi.cbbi._read_magic\n",
      "    \n",
      "OSError: [Errno 22] Invalid argument\n",
      "Traceback (most recent call last):\n",
      "  File \"/Users/pete/miniconda3/envs/cenv4/lib/python3.6/site-packages/flask/app.py\", line 2309, in __call__\n",
      "    return self.wsgi_app(environ, start_response)\n",
      "  File \"/Users/pete/miniconda3/envs/cenv4/lib/python3.6/site-packages/flask/app.py\", line 2295, in wsgi_app\n",
      "    response = self.handle_exception(e)\n",
      "  File \"/Users/pete/miniconda3/envs/cenv4/lib/python3.6/site-packages/flask_cors/extension.py\", line 161, in wrapped_function\n",
      "    return cors_after_request(app.make_response(f(*args, **kwargs)))\n",
      "  File \"/Users/pete/miniconda3/envs/cenv4/lib/python3.6/site-packages/flask/app.py\", line 1741, in handle_exception\n",
      "    reraise(exc_type, exc_value, tb)\n",
      "  File \"/Users/pete/miniconda3/envs/cenv4/lib/python3.6/site-packages/flask/_compat.py\", line 35, in reraise\n",
      "    raise value\n",
      "  File \"/Users/pete/miniconda3/envs/cenv4/lib/python3.6/site-packages/flask/app.py\", line 2292, in wsgi_app\n",
      "    response = self.full_dispatch_request()\n",
      "  File \"/Users/pete/miniconda3/envs/cenv4/lib/python3.6/site-packages/flask/app.py\", line 1815, in full_dispatch_request\n",
      "    rv = self.handle_user_exception(e)\n",
      "  File \"/Users/pete/miniconda3/envs/cenv4/lib/python3.6/site-packages/flask_cors/extension.py\", line 161, in wrapped_function\n",
      "    return cors_after_request(app.make_response(f(*args, **kwargs)))\n",
      "  File \"/Users/pete/miniconda3/envs/cenv4/lib/python3.6/site-packages/flask/app.py\", line 1718, in handle_user_exception\n",
      "    reraise(exc_type, exc_value, tb)\n",
      "  File \"/Users/pete/miniconda3/envs/cenv4/lib/python3.6/site-packages/flask/_compat.py\", line 35, in reraise\n",
      "    raise value\n",
      "  File \"/Users/pete/miniconda3/envs/cenv4/lib/python3.6/site-packages/flask/app.py\", line 1813, in full_dispatch_request\n",
      "    rv = self.dispatch_request()\n",
      "  File \"/Users/pete/miniconda3/envs/cenv4/lib/python3.6/site-packages/flask/app.py\", line 1799, in dispatch_request\n",
      "    return self.view_functions[rule.endpoint](**req.view_args)\n",
      "  File \"/Users/pete/projects/higlass-python/higlass/server.py\", line 207, in tiles\n",
      "    tiles.extend(ts.tiles(tids))\n",
      "  File \"/Users/pete/projects/higlass-python/higlass/tilesets.py\", line 43, in tiles\n",
      "    return self.tiles_fn(tile_ids)\n",
      "  File \"/Users/pete/projects/higlass-python/higlass/tilesets.py\", line 60, in <lambda>\n",
      "    tiles=lambda tids: hgbi.tiles(filepath, tids, chromsizes=chromsizes),\n",
      "  File \"/Users/pete/projects/clodius/clodius/tiles/bigwig.py\", line 248, in tiles\n",
      "    chromsizes_to_use = get_chromsizes(bwpath)\n",
      "  File \"/Users/pete/projects/clodius/clodius/tiles/bigwig.py\", line 82, in get_chromsizes\n",
      "    chromsizes = bbi.chromsizes(bwpath)\n",
      "  File \"bbi/cbbi.pyx\", line 137, in bbi.cbbi.chromsizes\n",
      "    \n",
      "  File \"bbi/cbbi.pyx\", line 50, in bbi.cbbi._check_sig\n",
      "    \n",
      "  File \"bbi/cbbi.pyx\", line 38, in bbi.cbbi._read_magic\n",
      "    \n",
      "  File \"bbi/cbbi.pyx\", line 39, in bbi.cbbi._read_magic\n",
      "    \n",
      "OSError: [Errno 22] Invalid argument\n"
     ]
    },
    {
     "name": "stderr",
     "output_type": "stream",
     "text": [
      "Traceback (most recent call last):\n",
      "  File \"/Users/pete/miniconda3/envs/cenv4/lib/python3.6/site-packages/flask/app.py\", line 2309, in __call__\n",
      "    return self.wsgi_app(environ, start_response)\n",
      "  File \"/Users/pete/miniconda3/envs/cenv4/lib/python3.6/site-packages/flask/app.py\", line 2295, in wsgi_app\n",
      "    response = self.handle_exception(e)\n",
      "  File \"/Users/pete/miniconda3/envs/cenv4/lib/python3.6/site-packages/flask_cors/extension.py\", line 161, in wrapped_function\n",
      "    return cors_after_request(app.make_response(f(*args, **kwargs)))\n",
      "  File \"/Users/pete/miniconda3/envs/cenv4/lib/python3.6/site-packages/flask/app.py\", line 1741, in handle_exception\n",
      "    reraise(exc_type, exc_value, tb)\n",
      "  File \"/Users/pete/miniconda3/envs/cenv4/lib/python3.6/site-packages/flask/_compat.py\", line 35, in reraise\n",
      "    raise value\n",
      "  File \"/Users/pete/miniconda3/envs/cenv4/lib/python3.6/site-packages/flask/app.py\", line 2292, in wsgi_app\n",
      "    response = self.full_dispatch_request()\n",
      "  File \"/Users/pete/miniconda3/envs/cenv4/lib/python3.6/site-packages/flask/app.py\", line 1815, in full_dispatch_request\n",
      "    rv = self.handle_user_exception(e)\n",
      "  File \"/Users/pete/miniconda3/envs/cenv4/lib/python3.6/site-packages/flask_cors/extension.py\", line 161, in wrapped_function\n",
      "    return cors_after_request(app.make_response(f(*args, **kwargs)))\n",
      "  File \"/Users/pete/miniconda3/envs/cenv4/lib/python3.6/site-packages/flask/app.py\", line 1718, in handle_user_exception\n",
      "    reraise(exc_type, exc_value, tb)\n",
      "  File \"/Users/pete/miniconda3/envs/cenv4/lib/python3.6/site-packages/flask/_compat.py\", line 35, in reraise\n",
      "    raise value\n",
      "  File \"/Users/pete/miniconda3/envs/cenv4/lib/python3.6/site-packages/flask/app.py\", line 1813, in full_dispatch_request\n",
      "    rv = self.dispatch_request()\n",
      "  File \"/Users/pete/miniconda3/envs/cenv4/lib/python3.6/site-packages/flask/app.py\", line 1799, in dispatch_request\n",
      "    return self.view_functions[rule.endpoint](**req.view_args)\n",
      "  File \"/Users/pete/projects/higlass-python/higlass/server.py\", line 207, in tiles\n",
      "    tiles.extend(ts.tiles(tids))\n",
      "  File \"/Users/pete/projects/higlass-python/higlass/tilesets.py\", line 43, in tiles\n",
      "    return self.tiles_fn(tile_ids)\n",
      "  File \"/Users/pete/projects/higlass-python/higlass/tilesets.py\", line 51, in <lambda>\n",
      "    tiles=lambda tids: hgco.tiles(filepath, tids),\n",
      "  File \"/Users/pete/projects/clodius/clodius/tiles/cooler.py\", line 559, in tiles\n",
      "    generated_tiles = generate_tiles(filepath, new_tile_ids)\n",
      "  File \"/Users/pete/projects/clodius/clodius/tiles/cooler.py\", line 590, in generate_tiles\n",
      "    make_mats(filepath)\n",
      "  File \"/Users/pete/projects/clodius/clodius/tiles/cooler.py\", line 456, in make_mats\n",
      "    f = h5py.File(filepath, 'r')\n",
      "  File \"/Users/pete/miniconda3/envs/cenv4/lib/python3.6/site-packages/h5py/_hl/files.py\", line 272, in __init__\n",
      "    fid = make_fid(name, mode, userblock_size, fapl, swmr=swmr)\n",
      "  File \"/Users/pete/miniconda3/envs/cenv4/lib/python3.6/site-packages/h5py/_hl/files.py\", line 92, in make_fid\n",
      "    fid = h5f.open(name, flags, fapl=fapl)\n",
      "  File \"h5py/_objects.pyx\", line 54, in h5py._objects.with_phil.wrapper (/private/var/folders/my/m6ynh3bn6tq06h7xr3js0z7r0000gn/T/pip-z0d9zbgm-build/h5py/_objects.c:2853)\n",
      "    \n",
      "  File \"h5py/_objects.pyx\", line 55, in h5py._objects.with_phil.wrapper (/private/var/folders/my/m6ynh3bn6tq06h7xr3js0z7r0000gn/T/pip-z0d9zbgm-build/h5py/_objects.c:2811)\n",
      "    \n",
      "  File \"h5py/h5f.pyx\", line 76, in h5py.h5f.open (/private/var/folders/my/m6ynh3bn6tq06h7xr3js0z7r0000gn/T/pip-z0d9zbgm-build/h5py/h5f.c:2099)\n",
      "    \n",
      "OSError: Unable to open file (Unable to open file: name = '/tmp/higlass-python/hpps////s3.amazonaws.com/pkerp/public/dixon2012-j1-ncoi-r1-filtered.100kb.multires.cool..', errno = 6, error message = 'device not configured', flags = 0, o_flags = 0)\n"
     ]
    }
   ],
   "source": [
    "import higlass.server as hgse\n",
    "\n",
    "server = hgse.Server([])\n",
    "server.start()"
   ]
  },
  {
   "cell_type": "code",
   "execution_count": 19,
   "metadata": {},
   "outputs": [
    {
     "name": "stdout",
     "output_type": "stream",
     "text": [
      "url: http://localhost:63713/api/v1/register_url/\n",
      "CPU times: user 6.28 ms, sys: 2.7 ms, total: 8.98 ms\n",
      "Wall time: 12.4 ms\n"
     ]
    }
   ],
   "source": [
    "%%time\n",
    "\n",
    "import requests\n",
    "import json\n",
    "\n",
    "url = 'http://localhost:{}/api/v1/register_url/'.format(server.port)\n",
    "\n",
    "print('url:', url)\n",
    "ret = requests.post(url,\n",
    "             json={\n",
    "                 'fileUrl': 'http://hgdownload.cse.ucsc.edu/goldenpath/hg19/encodeDCC/wgEncodeSydhTfbs/wgEncodeSydhTfbsGm12878InputStdSig.bigWig',\n",
    "                 #'fileUrl': 'http://localhost:8111/wgEncodeCaltechRnaSeqHuvecR1x75dTh1014IlnaPlusSignalRep2.bigWig',\n",
    "                 'filetype': \"bigwig\",\n",
    "                 'datatype': 'vector',\n",
    "             })\n",
    "\n",
    "uid = json.loads(ret.content)['uid']\n",
    "\n",
    "\"\"\"\n",
    "url = 'http://localhost:{}/api/v1/tileset_info/?d={}'.format(server.port, uid)\n",
    "print('url:', url);\n",
    "req = requests.get(url)\n",
    "print('req', req.content)\n",
    "\"\"\""
   ]
  },
  {
   "cell_type": "code",
   "execution_count": 20,
   "metadata": {},
   "outputs": [
    {
     "name": "stdout",
     "output_type": "stream",
     "text": [
      "req b'<!DOCTYPE HTML PUBLIC \"-//W3C//DTD HTML 4.01 Transitional//EN\"\\n  \"http://www.w3.org/TR/html4/loose.dtd\">\\n<html>\\n  <head>\\n    <title>OSError: [Errno 22] Invalid argument // Werkzeug Debugger</title>\\n    <link rel=\"stylesheet\" href=\"?__debugger__=yes&amp;cmd=resource&amp;f=style.css\"\\n        type=\"text/css\">\\n    <!-- We need to make sure this has a favicon so that the debugger does\\n         not by accident trigger a request to /favicon.ico which might\\n         change the application state. -->\\n    <link rel=\"shortcut icon\"\\n        href=\"?__debugger__=yes&amp;cmd=resource&amp;f=console.png\">\\n    <script src=\"?__debugger__=yes&amp;cmd=resource&amp;f=jquery.js\"></script>\\n    <script src=\"?__debugger__=yes&amp;cmd=resource&amp;f=debugger.js\"></script>\\n    <script type=\"text/javascript\">\\n      var TRACEBACK = 4780219976,\\n          CONSOLE_MODE = false,\\n          EVALEX = true,\\n          EVALEX_TRUSTED = false,\\n          SECRET = \"UAgnDzRr4TGxUjyBiH5q\";\\n    </script>\\n  </head>\\n  <body style=\"background-color: #fff\">\\n    <div class=\"debugger\">\\n<h1>builtins.OSError</h1>\\n<div class=\"detail\">\\n  <p class=\"errormsg\">OSError: [Errno 22] Invalid argument</p>\\n</div>\\n<h2 class=\"traceback\">Traceback <em>(most recent call last)</em></h2>\\n<div class=\"traceback\">\\n  \\n  <ul><li><div class=\"frame\" id=\"frame-4780483304\">\\n  <h4>File <cite class=\"filename\">\"/Users/pete/miniconda3/envs/cenv4/lib/python3.6/site-packages/flask/app.py\"</cite>,\\n      line <em class=\"line\">2309</em>,\\n      in <code class=\"function\">__call__</code></h4>\\n  <div class=\"source\"><pre class=\"line before\"><span class=\"ws\"></span> </pre>\\n<pre class=\"line before\"><span class=\"ws\">    </span>def __call__(self, environ, start_response):</pre>\\n<pre class=\"line before\"><span class=\"ws\">        </span>&quot;&quot;&quot;The WSGI server calls the Flask application object as the</pre>\\n<pre class=\"line before\"><span class=\"ws\">        </span>WSGI application. This calls :meth:`wsgi_app` which can be</pre>\\n<pre class=\"line before\"><span class=\"ws\">        </span>wrapped to applying middleware.&quot;&quot;&quot;</pre>\\n<pre class=\"line current\"><span class=\"ws\">        </span>return self.wsgi_app(environ, start_response)</pre>\\n<pre class=\"line after\"><span class=\"ws\"></span> </pre>\\n<pre class=\"line after\"><span class=\"ws\">    </span>def __repr__(self):</pre>\\n<pre class=\"line after\"><span class=\"ws\">        </span>return \\'&lt;%s %r&gt;\\' % (</pre>\\n<pre class=\"line after\"><span class=\"ws\">            </span>self.__class__.__name__,</pre>\\n<pre class=\"line after\"><span class=\"ws\">            </span>self.name,</pre></div>\\n</div>\\n\\n<li><div class=\"frame\" id=\"frame-4780483976\">\\n  <h4>File <cite class=\"filename\">\"/Users/pete/miniconda3/envs/cenv4/lib/python3.6/site-packages/flask/app.py\"</cite>,\\n      line <em class=\"line\">2295</em>,\\n      in <code class=\"function\">wsgi_app</code></h4>\\n  <div class=\"source\"><pre class=\"line before\"><span class=\"ws\">            </span>try:</pre>\\n<pre class=\"line before\"><span class=\"ws\">                </span>ctx.push()</pre>\\n<pre class=\"line before\"><span class=\"ws\">                </span>response = self.full_dispatch_request()</pre>\\n<pre class=\"line before\"><span class=\"ws\">            </span>except Exception as e:</pre>\\n<pre class=\"line before\"><span class=\"ws\">                </span>error = e</pre>\\n<pre class=\"line current\"><span class=\"ws\">                </span>response = self.handle_exception(e)</pre>\\n<pre class=\"line after\"><span class=\"ws\">            </span>except:</pre>\\n<pre class=\"line after\"><span class=\"ws\">                </span>error = sys.exc_info()[1]</pre>\\n<pre class=\"line after\"><span class=\"ws\">                </span>raise</pre>\\n<pre class=\"line after\"><span class=\"ws\">            </span>return response(environ, start_response)</pre>\\n<pre class=\"line after\"><span class=\"ws\">        </span>finally:</pre></div>\\n</div>\\n\\n<li><div class=\"frame\" id=\"frame-4780484032\">\\n  <h4>File <cite class=\"filename\">\"/Users/pete/miniconda3/envs/cenv4/lib/python3.6/site-packages/flask_cors/extension.py\"</cite>,\\n      line <em class=\"line\">161</em>,\\n      in <code class=\"function\">wrapped_function</code></h4>\\n  <div class=\"source\"><pre class=\"line before\"><span class=\"ws\">        </span># Wrap exception handlers with cross_origin</pre>\\n<pre class=\"line before\"><span class=\"ws\">        </span># These error handlers will still respect the behavior of the route</pre>\\n<pre class=\"line before\"><span class=\"ws\">        </span>if options.get(\\'intercept_exceptions\\', True):</pre>\\n<pre class=\"line before\"><span class=\"ws\">            </span>def _after_request_decorator(f):</pre>\\n<pre class=\"line before\"><span class=\"ws\">                </span>def wrapped_function(*args, **kwargs):</pre>\\n<pre class=\"line current\"><span class=\"ws\">                    </span>return cors_after_request(app.make_response(f(*args, **kwargs)))</pre>\\n<pre class=\"line after\"><span class=\"ws\">                </span>return wrapped_function</pre>\\n<pre class=\"line after\"><span class=\"ws\"></span> </pre>\\n<pre class=\"line after\"><span class=\"ws\">            </span>if hasattr(app, \\'handle_exception\\'):</pre>\\n<pre class=\"line after\"><span class=\"ws\">                </span>app.handle_exception = _after_request_decorator(</pre>\\n<pre class=\"line after\"><span class=\"ws\">                    </span>app.handle_exception)</pre></div>\\n</div>\\n\\n<li><div class=\"frame\" id=\"frame-4780483360\">\\n  <h4>File <cite class=\"filename\">\"/Users/pete/miniconda3/envs/cenv4/lib/python3.6/site-packages/flask/app.py\"</cite>,\\n      line <em class=\"line\">1741</em>,\\n      in <code class=\"function\">handle_exception</code></h4>\\n  <div class=\"source\"><pre class=\"line before\"><span class=\"ws\">            </span># if we want to repropagate the exception, we can attempt to</pre>\\n<pre class=\"line before\"><span class=\"ws\">            </span># raise it with the whole traceback in case we can do that</pre>\\n<pre class=\"line before\"><span class=\"ws\">            </span># (the function was actually called from the except part)</pre>\\n<pre class=\"line before\"><span class=\"ws\">            </span># otherwise, we just raise the error again</pre>\\n<pre class=\"line before\"><span class=\"ws\">            </span>if exc_value is e:</pre>\\n<pre class=\"line current\"><span class=\"ws\">                </span>reraise(exc_type, exc_value, tb)</pre>\\n<pre class=\"line after\"><span class=\"ws\">            </span>else:</pre>\\n<pre class=\"line after\"><span class=\"ws\">                </span>raise e</pre>\\n<pre class=\"line after\"><span class=\"ws\"></span> </pre>\\n<pre class=\"line after\"><span class=\"ws\">        </span>self.log_exception((exc_type, exc_value, tb))</pre>\\n<pre class=\"line after\"><span class=\"ws\">        </span>if handler is None:</pre></div>\\n</div>\\n\\n<li><div class=\"frame\" id=\"frame-4780484144\">\\n  <h4>File <cite class=\"filename\">\"/Users/pete/miniconda3/envs/cenv4/lib/python3.6/site-packages/flask/_compat.py\"</cite>,\\n      line <em class=\"line\">35</em>,\\n      in <code class=\"function\">reraise</code></h4>\\n  <div class=\"source\"><pre class=\"line before\"><span class=\"ws\">    </span>from io import StringIO</pre>\\n<pre class=\"line before\"><span class=\"ws\"></span> </pre>\\n<pre class=\"line before\"><span class=\"ws\">    </span>def reraise(tp, value, tb=None):</pre>\\n<pre class=\"line before\"><span class=\"ws\">        </span>if value.__traceback__ is not tb:</pre>\\n<pre class=\"line before\"><span class=\"ws\">            </span>raise value.with_traceback(tb)</pre>\\n<pre class=\"line current\"><span class=\"ws\">        </span>raise value</pre>\\n<pre class=\"line after\"><span class=\"ws\"></span> </pre>\\n<pre class=\"line after\"><span class=\"ws\">    </span>implements_to_string = _identity</pre>\\n<pre class=\"line after\"><span class=\"ws\"></span> </pre>\\n<pre class=\"line after\"><span class=\"ws\"></span>else:</pre>\\n<pre class=\"line after\"><span class=\"ws\">    </span>text_type = unicode</pre></div>\\n</div>\\n\\n<li><div class=\"frame\" id=\"frame-4780483472\">\\n  <h4>File <cite class=\"filename\">\"/Users/pete/miniconda3/envs/cenv4/lib/python3.6/site-packages/flask/app.py\"</cite>,\\n      line <em class=\"line\">2292</em>,\\n      in <code class=\"function\">wsgi_app</code></h4>\\n  <div class=\"source\"><pre class=\"line before\"><span class=\"ws\">        </span>ctx = self.request_context(environ)</pre>\\n<pre class=\"line before\"><span class=\"ws\">        </span>error = None</pre>\\n<pre class=\"line before\"><span class=\"ws\">        </span>try:</pre>\\n<pre class=\"line before\"><span class=\"ws\">            </span>try:</pre>\\n<pre class=\"line before\"><span class=\"ws\">                </span>ctx.push()</pre>\\n<pre class=\"line current\"><span class=\"ws\">                </span>response = self.full_dispatch_request()</pre>\\n<pre class=\"line after\"><span class=\"ws\">            </span>except Exception as e:</pre>\\n<pre class=\"line after\"><span class=\"ws\">                </span>error = e</pre>\\n<pre class=\"line after\"><span class=\"ws\">                </span>response = self.handle_exception(e)</pre>\\n<pre class=\"line after\"><span class=\"ws\">            </span>except:</pre>\\n<pre class=\"line after\"><span class=\"ws\">                </span>error = sys.exc_info()[1]</pre></div>\\n</div>\\n\\n<li><div class=\"frame\" id=\"frame-4780484256\">\\n  <h4>File <cite class=\"filename\">\"/Users/pete/miniconda3/envs/cenv4/lib/python3.6/site-packages/flask/app.py\"</cite>,\\n      line <em class=\"line\">1815</em>,\\n      in <code class=\"function\">full_dispatch_request</code></h4>\\n  <div class=\"source\"><pre class=\"line before\"><span class=\"ws\">            </span>request_started.send(self)</pre>\\n<pre class=\"line before\"><span class=\"ws\">            </span>rv = self.preprocess_request()</pre>\\n<pre class=\"line before\"><span class=\"ws\">            </span>if rv is None:</pre>\\n<pre class=\"line before\"><span class=\"ws\">                </span>rv = self.dispatch_request()</pre>\\n<pre class=\"line before\"><span class=\"ws\">        </span>except Exception as e:</pre>\\n<pre class=\"line current\"><span class=\"ws\">            </span>rv = self.handle_user_exception(e)</pre>\\n<pre class=\"line after\"><span class=\"ws\">        </span>return self.finalize_request(rv)</pre>\\n<pre class=\"line after\"><span class=\"ws\"></span> </pre>\\n<pre class=\"line after\"><span class=\"ws\">    </span>def finalize_request(self, rv, from_error_handler=False):</pre>\\n<pre class=\"line after\"><span class=\"ws\">        </span>&quot;&quot;&quot;Given the return value from a view function this finalizes</pre>\\n<pre class=\"line after\"><span class=\"ws\">        </span>the request by converting it into a response and invoking the</pre></div>\\n</div>\\n\\n<li><div class=\"frame\" id=\"frame-4780484312\">\\n  <h4>File <cite class=\"filename\">\"/Users/pete/miniconda3/envs/cenv4/lib/python3.6/site-packages/flask_cors/extension.py\"</cite>,\\n      line <em class=\"line\">161</em>,\\n      in <code class=\"function\">wrapped_function</code></h4>\\n  <div class=\"source\"><pre class=\"line before\"><span class=\"ws\">        </span># Wrap exception handlers with cross_origin</pre>\\n<pre class=\"line before\"><span class=\"ws\">        </span># These error handlers will still respect the behavior of the route</pre>\\n<pre class=\"line before\"><span class=\"ws\">        </span>if options.get(\\'intercept_exceptions\\', True):</pre>\\n<pre class=\"line before\"><span class=\"ws\">            </span>def _after_request_decorator(f):</pre>\\n<pre class=\"line before\"><span class=\"ws\">                </span>def wrapped_function(*args, **kwargs):</pre>\\n<pre class=\"line current\"><span class=\"ws\">                    </span>return cors_after_request(app.make_response(f(*args, **kwargs)))</pre>\\n<pre class=\"line after\"><span class=\"ws\">                </span>return wrapped_function</pre>\\n<pre class=\"line after\"><span class=\"ws\"></span> </pre>\\n<pre class=\"line after\"><span class=\"ws\">            </span>if hasattr(app, \\'handle_exception\\'):</pre>\\n<pre class=\"line after\"><span class=\"ws\">                </span>app.handle_exception = _after_request_decorator(</pre>\\n<pre class=\"line after\"><span class=\"ws\">                    </span>app.handle_exception)</pre></div>\\n</div>\\n\\n<li><div class=\"frame\" id=\"frame-4780483864\">\\n  <h4>File <cite class=\"filename\">\"/Users/pete/miniconda3/envs/cenv4/lib/python3.6/site-packages/flask/app.py\"</cite>,\\n      line <em class=\"line\">1718</em>,\\n      in <code class=\"function\">handle_user_exception</code></h4>\\n  <div class=\"source\"><pre class=\"line before\"><span class=\"ws\">            </span>return self.handle_http_exception(e)</pre>\\n<pre class=\"line before\"><span class=\"ws\"></span> </pre>\\n<pre class=\"line before\"><span class=\"ws\">        </span>handler = self._find_error_handler(e)</pre>\\n<pre class=\"line before\"><span class=\"ws\"></span> </pre>\\n<pre class=\"line before\"><span class=\"ws\">        </span>if handler is None:</pre>\\n<pre class=\"line current\"><span class=\"ws\">            </span>reraise(exc_type, exc_value, tb)</pre>\\n<pre class=\"line after\"><span class=\"ws\">        </span>return handler(e)</pre>\\n<pre class=\"line after\"><span class=\"ws\"></span> </pre>\\n<pre class=\"line after\"><span class=\"ws\">    </span>def handle_exception(self, e):</pre>\\n<pre class=\"line after\"><span class=\"ws\">        </span>&quot;&quot;&quot;Default exception handling that kicks in when an exception</pre>\\n<pre class=\"line after\"><span class=\"ws\">        </span>occurs that is not caught.  In debug mode the exception will</pre></div>\\n</div>\\n\\n<li><div class=\"frame\" id=\"frame-4780484424\">\\n  <h4>File <cite class=\"filename\">\"/Users/pete/miniconda3/envs/cenv4/lib/python3.6/site-packages/flask/_compat.py\"</cite>,\\n      line <em class=\"line\">35</em>,\\n      in <code class=\"function\">reraise</code></h4>\\n  <div class=\"source\"><pre class=\"line before\"><span class=\"ws\">    </span>from io import StringIO</pre>\\n<pre class=\"line before\"><span class=\"ws\"></span> </pre>\\n<pre class=\"line before\"><span class=\"ws\">    </span>def reraise(tp, value, tb=None):</pre>\\n<pre class=\"line before\"><span class=\"ws\">        </span>if value.__traceback__ is not tb:</pre>\\n<pre class=\"line before\"><span class=\"ws\">            </span>raise value.with_traceback(tb)</pre>\\n<pre class=\"line current\"><span class=\"ws\">        </span>raise value</pre>\\n<pre class=\"line after\"><span class=\"ws\"></span> </pre>\\n<pre class=\"line after\"><span class=\"ws\">    </span>implements_to_string = _identity</pre>\\n<pre class=\"line after\"><span class=\"ws\"></span> </pre>\\n<pre class=\"line after\"><span class=\"ws\"></span>else:</pre>\\n<pre class=\"line after\"><span class=\"ws\">    </span>text_type = unicode</pre></div>\\n</div>\\n\\n<li><div class=\"frame\" id=\"frame-4780482632\">\\n  <h4>File <cite class=\"filename\">\"/Users/pete/miniconda3/envs/cenv4/lib/python3.6/site-packages/flask/app.py\"</cite>,\\n      line <em class=\"line\">1813</em>,\\n      in <code class=\"function\">full_dispatch_request</code></h4>\\n  <div class=\"source\"><pre class=\"line before\"><span class=\"ws\">        </span>self.try_trigger_before_first_request_functions()</pre>\\n<pre class=\"line before\"><span class=\"ws\">        </span>try:</pre>\\n<pre class=\"line before\"><span class=\"ws\">            </span>request_started.send(self)</pre>\\n<pre class=\"line before\"><span class=\"ws\">            </span>rv = self.preprocess_request()</pre>\\n<pre class=\"line before\"><span class=\"ws\">            </span>if rv is None:</pre>\\n<pre class=\"line current\"><span class=\"ws\">                </span>rv = self.dispatch_request()</pre>\\n<pre class=\"line after\"><span class=\"ws\">        </span>except Exception as e:</pre>\\n<pre class=\"line after\"><span class=\"ws\">            </span>rv = self.handle_user_exception(e)</pre>\\n<pre class=\"line after\"><span class=\"ws\">        </span>return self.finalize_request(rv)</pre>\\n<pre class=\"line after\"><span class=\"ws\"></span> </pre>\\n<pre class=\"line after\"><span class=\"ws\">    </span>def finalize_request(self, rv, from_error_handler=False):</pre></div>\\n</div>\\n\\n<li><div class=\"frame\" id=\"frame-4780484536\">\\n  <h4>File <cite class=\"filename\">\"/Users/pete/miniconda3/envs/cenv4/lib/python3.6/site-packages/flask/app.py\"</cite>,\\n      line <em class=\"line\">1799</em>,\\n      in <code class=\"function\">dispatch_request</code></h4>\\n  <div class=\"source\"><pre class=\"line before\"><span class=\"ws\">        </span># request came with the OPTIONS method, reply automatically</pre>\\n<pre class=\"line before\"><span class=\"ws\">        </span>if getattr(rule, \\'provide_automatic_options\\', False) \\\\</pre>\\n<pre class=\"line before\"><span class=\"ws\">           </span>and req.method == \\'OPTIONS\\':</pre>\\n<pre class=\"line before\"><span class=\"ws\">            </span>return self.make_default_options_response()</pre>\\n<pre class=\"line before\"><span class=\"ws\">        </span># otherwise dispatch to the handler for that endpoint</pre>\\n<pre class=\"line current\"><span class=\"ws\">        </span>return self.view_functions[rule.endpoint](**req.view_args)</pre>\\n<pre class=\"line after\"><span class=\"ws\"></span> </pre>\\n<pre class=\"line after\"><span class=\"ws\">    </span>def full_dispatch_request(self):</pre>\\n<pre class=\"line after\"><span class=\"ws\">        </span>&quot;&quot;&quot;Dispatches the request and on top of that performs request</pre>\\n<pre class=\"line after\"><span class=\"ws\">        </span>pre and postprocessing as well as HTTP exception catching and</pre>\\n<pre class=\"line after\"><span class=\"ws\">        </span>error handling.</pre></div>\\n</div>\\n\\n<li><div class=\"frame\" id=\"frame-4780484592\">\\n  <h4>File <cite class=\"filename\">\"/Users/pete/projects/higlass-python/higlass/server.py\"</cite>,\\n      line <em class=\"line\">207</em>,\\n      in <code class=\"function\">tiles</code></h4>\\n  <div class=\"source\"><pre class=\"line before\"><span class=\"ws\">        </span>uuids_to_tids = toolz.groupby(extract_uuid, tids_requested)</pre>\\n<pre class=\"line before\"><span class=\"ws\"></span> </pre>\\n<pre class=\"line before\"><span class=\"ws\">        </span>tiles = []</pre>\\n<pre class=\"line before\"><span class=\"ws\">        </span>for uuid, tids in uuids_to_tids.items():</pre>\\n<pre class=\"line before\"><span class=\"ws\">            </span>ts = next((ts for ts in list_tilesets() if ts.uuid == uuid), None)</pre>\\n<pre class=\"line current\"><span class=\"ws\">            </span>tiles.extend(ts.tiles(tids))</pre>\\n<pre class=\"line after\"><span class=\"ws\">        </span>data = {tid: tval for tid, tval in tiles}</pre>\\n<pre class=\"line after\"><span class=\"ws\">        </span>return jsonify(data)</pre>\\n<pre class=\"line after\"><span class=\"ws\"></span> </pre>\\n<pre class=\"line after\"><span class=\"ws\">    </span>logging.basicConfig(</pre>\\n<pre class=\"line after\"><span class=\"ws\">        </span>level=log_level,</pre></div>\\n</div>\\n\\n<li><div class=\"frame\" id=\"frame-4780484200\">\\n  <h4>File <cite class=\"filename\">\"/Users/pete/projects/higlass-python/higlass/tilesets.py\"</cite>,\\n      line <em class=\"line\">43</em>,\\n      in <code class=\"function\">tiles</code></h4>\\n  <div class=\"source\"><pre class=\"line before\"><span class=\"ws\"></span> </pre>\\n<pre class=\"line before\"><span class=\"ws\">    </span>def tileset_info(self):</pre>\\n<pre class=\"line before\"><span class=\"ws\">        </span>return self.tileset_info_fn()</pre>\\n<pre class=\"line before\"><span class=\"ws\"></span> </pre>\\n<pre class=\"line before\"><span class=\"ws\">    </span>def tiles(self, tile_ids ):</pre>\\n<pre class=\"line current\"><span class=\"ws\">        </span>return self.tiles_fn(tile_ids)</pre>\\n<pre class=\"line after\"><span class=\"ws\"></span> </pre>\\n<pre class=\"line after\"><span class=\"ws\">    </span>def chromsizes(self):</pre>\\n<pre class=\"line after\"><span class=\"ws\">        </span>return self.chromsizes_fn()</pre>\\n<pre class=\"line after\"><span class=\"ws\"></span> </pre>\\n<pre class=\"line after\"><span class=\"ws\"></span>def cooler(filepath, uuid=None):</pre></div>\\n</div>\\n\\n<li><div class=\"frame\" id=\"frame-4780483808\">\\n  <h4>File <cite class=\"filename\">\"/Users/pete/projects/higlass-python/higlass/tilesets.py\"</cite>,\\n      line <em class=\"line\">60</em>,\\n      in <code class=\"function\">&lt;lambda&gt;</code></h4>\\n  <div class=\"source\"><pre class=\"line before\"><span class=\"ws\">        </span>)</pre>\\n<pre class=\"line before\"><span class=\"ws\"></span> </pre>\\n<pre class=\"line before\"><span class=\"ws\"></span>def bigwig(filepath, chromsizes=None, uuid=None):</pre>\\n<pre class=\"line before\"><span class=\"ws\">    </span>return Tileset(</pre>\\n<pre class=\"line before\"><span class=\"ws\">            </span>tileset_info=lambda: hgbi.tileset_info(filepath, chromsizes),</pre>\\n<pre class=\"line current\"><span class=\"ws\">            </span>tiles=lambda tids: hgbi.tiles(filepath, tids, chromsizes=chromsizes),</pre>\\n<pre class=\"line after\"><span class=\"ws\">            </span>uuid=uuid</pre>\\n<pre class=\"line after\"><span class=\"ws\">        </span>)</pre>\\n<pre class=\"line after\"><span class=\"ws\"></span> </pre>\\n<pre class=\"line after\"><span class=\"ws\"></span>def chromsizes(filepath, uuid=None):</pre>\\n<pre class=\"line after\"><span class=\"ws\">    </span>return Tileset(</pre></div>\\n</div>\\n\\n<li><div class=\"frame\" id=\"frame-4780484368\">\\n  <h4>File <cite class=\"filename\">\"/Users/pete/projects/clodius/clodius/tiles/bigwig.py\"</cite>,\\n      line <em class=\"line\">248</em>,\\n      in <code class=\"function\">tiles</code></h4>\\n  <div class=\"source\"><pre class=\"line before\"><span class=\"ws\">        </span>tile_pos = tile_position[1]</pre>\\n<pre class=\"line before\"><span class=\"ws\"></span> </pre>\\n<pre class=\"line before\"><span class=\"ws\">        </span># this doesn\\'t combine multiple consequetive ids, which</pre>\\n<pre class=\"line before\"><span class=\"ws\">        </span># would speed things up</pre>\\n<pre class=\"line before\"><span class=\"ws\">        </span>if chromsizes_to_use is None:</pre>\\n<pre class=\"line current\"><span class=\"ws\">            </span>chromsizes_to_use = get_chromsizes(bwpath)</pre>\\n<pre class=\"line after\"><span class=\"ws\"></span> </pre>\\n<pre class=\"line after\"><span class=\"ws\">        </span>max_depth = get_quadtree_depth(chromsizes_to_use)</pre>\\n<pre class=\"line after\"><span class=\"ws\">        </span>tile_size = TILE_SIZE * 2 ** (max_depth - zoom_level)</pre>\\n<pre class=\"line after\"><span class=\"ws\">        </span>start_pos = tile_pos * tile_size</pre>\\n<pre class=\"line after\"><span class=\"ws\">        </span>end_pos = start_pos + tile_size</pre></div>\\n</div>\\n\\n<li><div class=\"frame\" id=\"frame-4780484648\">\\n  <h4>File <cite class=\"filename\">\"/Users/pete/projects/clodius/clodius/tiles/bigwig.py\"</cite>,\\n      line <em class=\"line\">82</em>,\\n      in <code class=\"function\">get_chromsizes</code></h4>\\n  <div class=\"source\"><pre class=\"line before\"><span class=\"ws\">    </span>TODO: replace this with negspy</pre>\\n<pre class=\"line before\"><span class=\"ws\"></span> </pre>\\n<pre class=\"line before\"><span class=\"ws\">    </span>Also, return NaNs from any missing chromosomes in bbi.fetch</pre>\\n<pre class=\"line before\"><span class=\"ws\"></span> </pre>\\n<pre class=\"line before\"><span class=\"ws\">    </span>&quot;&quot;&quot;</pre>\\n<pre class=\"line current\"><span class=\"ws\">    </span>chromsizes = bbi.chromsizes(bwpath)</pre>\\n<pre class=\"line after\"><span class=\"ws\">    </span>chromosomes = natsorted(chromsizes.keys())</pre>\\n<pre class=\"line after\"><span class=\"ws\">    </span>chrom_series = pd.Series(chromsizes)[chromosomes]</pre>\\n<pre class=\"line after\"><span class=\"ws\">    </span>return chrom_series</pre>\\n<pre class=\"line after\"><span class=\"ws\"></span> </pre>\\n<pre class=\"line after\"><span class=\"ws\"></span>def abs2genomic(chromsizes, start_pos, end_pos):</pre></div>\\n</div>\\n\\n<li><div class=\"frame\" id=\"frame-4780484704\">\\n  <h4>File <cite class=\"filename\">\"bbi/cbbi.pyx\"</cite>,\\n      line <em class=\"line\">137</em>,\\n      in <code class=\"function\">bbi.cbbi.chromsizes</code></h4>\\n  <div class=\"source\"><pre class=\"line current\"><span class=\"ws\"></span> </pre></div>\\n</div>\\n\\n<li><div class=\"frame\" id=\"frame-4780484480\">\\n  <h4>File <cite class=\"filename\">\"bbi/cbbi.pyx\"</cite>,\\n      line <em class=\"line\">50</em>,\\n      in <code class=\"function\">bbi.cbbi._check_sig</code></h4>\\n  <div class=\"source\"><pre class=\"line current\"><span class=\"ws\"></span> </pre></div>\\n</div>\\n\\n<li><div class=\"frame\" id=\"frame-4780483920\">\\n  <h4>File <cite class=\"filename\">\"bbi/cbbi.pyx\"</cite>,\\n      line <em class=\"line\">38</em>,\\n      in <code class=\"function\">bbi.cbbi._read_magic</code></h4>\\n  <div class=\"source\"><pre class=\"line current\"><span class=\"ws\"></span> </pre></div>\\n</div>\\n\\n<li><div class=\"frame\" id=\"frame-4780484760\">\\n  <h4>File <cite class=\"filename\">\"bbi/cbbi.pyx\"</cite>,\\n      line <em class=\"line\">39</em>,\\n      in <code class=\"function\">bbi.cbbi._read_magic</code></h4>\\n  <div class=\"source\"><pre class=\"line current\"><span class=\"ws\"></span> </pre></div>\\n</div>\\n</ul>\\n  <blockquote>OSError: [Errno 22] Invalid argument</blockquote>\\n</div>\\n\\n<div class=\"plain\">\\n  <form action=\"/?__debugger__=yes&amp;cmd=paste\" method=\"post\">\\n    <p>\\n      <input type=\"hidden\" name=\"language\" value=\"pytb\">\\n      This is the Copy/Paste friendly version of the traceback.  <span\\n      class=\"pastemessage\">You can also paste this traceback into\\n      a <a href=\"https://gist.github.com/\">gist</a>:\\n      <input type=\"submit\" value=\"create paste\"></span>\\n    </p>\\n    <textarea cols=\"50\" rows=\"10\" name=\"code\" readonly>Traceback (most recent call last):\\n  File &quot;/Users/pete/miniconda3/envs/cenv4/lib/python3.6/site-packages/flask/app.py&quot;, line 2309, in __call__\\n    return self.wsgi_app(environ, start_response)\\n  File &quot;/Users/pete/miniconda3/envs/cenv4/lib/python3.6/site-packages/flask/app.py&quot;, line 2295, in wsgi_app\\n    response = self.handle_exception(e)\\n  File &quot;/Users/pete/miniconda3/envs/cenv4/lib/python3.6/site-packages/flask_cors/extension.py&quot;, line 161, in wrapped_function\\n    return cors_after_request(app.make_response(f(*args, **kwargs)))\\n  File &quot;/Users/pete/miniconda3/envs/cenv4/lib/python3.6/site-packages/flask/app.py&quot;, line 1741, in handle_exception\\n    reraise(exc_type, exc_value, tb)\\n  File &quot;/Users/pete/miniconda3/envs/cenv4/lib/python3.6/site-packages/flask/_compat.py&quot;, line 35, in reraise\\n    raise value\\n  File &quot;/Users/pete/miniconda3/envs/cenv4/lib/python3.6/site-packages/flask/app.py&quot;, line 2292, in wsgi_app\\n    response = self.full_dispatch_request()\\n  File &quot;/Users/pete/miniconda3/envs/cenv4/lib/python3.6/site-packages/flask/app.py&quot;, line 1815, in full_dispatch_request\\n    rv = self.handle_user_exception(e)\\n  File &quot;/Users/pete/miniconda3/envs/cenv4/lib/python3.6/site-packages/flask_cors/extension.py&quot;, line 161, in wrapped_function\\n    return cors_after_request(app.make_response(f(*args, **kwargs)))\\n  File &quot;/Users/pete/miniconda3/envs/cenv4/lib/python3.6/site-packages/flask/app.py&quot;, line 1718, in handle_user_exception\\n    reraise(exc_type, exc_value, tb)\\n  File &quot;/Users/pete/miniconda3/envs/cenv4/lib/python3.6/site-packages/flask/_compat.py&quot;, line 35, in reraise\\n    raise value\\n  File &quot;/Users/pete/miniconda3/envs/cenv4/lib/python3.6/site-packages/flask/app.py&quot;, line 1813, in full_dispatch_request\\n    rv = self.dispatch_request()\\n  File &quot;/Users/pete/miniconda3/envs/cenv4/lib/python3.6/site-packages/flask/app.py&quot;, line 1799, in dispatch_request\\n    return self.view_functions[rule.endpoint](**req.view_args)\\n  File &quot;/Users/pete/projects/higlass-python/higlass/server.py&quot;, line 207, in tiles\\n    tiles.extend(ts.tiles(tids))\\n  File &quot;/Users/pete/projects/higlass-python/higlass/tilesets.py&quot;, line 43, in tiles\\n    return self.tiles_fn(tile_ids)\\n  File &quot;/Users/pete/projects/higlass-python/higlass/tilesets.py&quot;, line 60, in &lt;lambda&gt;\\n    tiles=lambda tids: hgbi.tiles(filepath, tids, chromsizes=chromsizes),\\n  File &quot;/Users/pete/projects/clodius/clodius/tiles/bigwig.py&quot;, line 248, in tiles\\n    chromsizes_to_use = get_chromsizes(bwpath)\\n  File &quot;/Users/pete/projects/clodius/clodius/tiles/bigwig.py&quot;, line 82, in get_chromsizes\\n    chromsizes = bbi.chromsizes(bwpath)\\n  File &quot;bbi/cbbi.pyx&quot;, line 137, in bbi.cbbi.chromsizes\\n    \\n  File &quot;bbi/cbbi.pyx&quot;, line 50, in bbi.cbbi._check_sig\\n    \\n  File &quot;bbi/cbbi.pyx&quot;, line 38, in bbi.cbbi._read_magic\\n    \\n  File &quot;bbi/cbbi.pyx&quot;, line 39, in bbi.cbbi._read_magic\\n    \\nOSError: [Errno 22] Invalid argument</textarea>\\n  </form>\\n</div>\\n<div class=\"explanation\">\\n  The debugger caught an exception in your WSGI application.  You can now\\n  look at the traceback which led to the error.  <span class=\"nojavascript\">\\n  If you enable JavaScript you can also use additional features such as code\\n  execution (if the evalex feature is enabled), automatic pasting of the\\n  exceptions and much more.</span>\\n</div>\\n      <div class=\"footer\">\\n        Brought to you by <strong class=\"arthur\">DON\\'T PANIC</strong>, your\\n        friendly Werkzeug powered traceback interpreter.\\n      </div>\\n    </div>\\n\\n    <div class=\"pin-prompt\">\\n      <div class=\"inner\">\\n        <h3>Console Locked</h3>\\n        <p>\\n          The console is locked and needs to be unlocked by entering the PIN.\\n          You can find the PIN printed out on the standard output of your\\n          shell that runs the server.\\n        <form>\\n          <p>PIN:\\n            <input type=text name=pin size=14>\\n            <input type=submit name=btn value=\"Confirm Pin\">\\n        </form>\\n      </div>\\n    </div>\\n  </body>\\n</html>\\n\\n<!--\\n\\nTraceback (most recent call last):\\n  File \"/Users/pete/miniconda3/envs/cenv4/lib/python3.6/site-packages/flask/app.py\", line 2309, in __call__\\n    return self.wsgi_app(environ, start_response)\\n  File \"/Users/pete/miniconda3/envs/cenv4/lib/python3.6/site-packages/flask/app.py\", line 2295, in wsgi_app\\n    response = self.handle_exception(e)\\n  File \"/Users/pete/miniconda3/envs/cenv4/lib/python3.6/site-packages/flask_cors/extension.py\", line 161, in wrapped_function\\n    return cors_after_request(app.make_response(f(*args, **kwargs)))\\n  File \"/Users/pete/miniconda3/envs/cenv4/lib/python3.6/site-packages/flask/app.py\", line 1741, in handle_exception\\n    reraise(exc_type, exc_value, tb)\\n  File \"/Users/pete/miniconda3/envs/cenv4/lib/python3.6/site-packages/flask/_compat.py\", line 35, in reraise\\n    raise value\\n  File \"/Users/pete/miniconda3/envs/cenv4/lib/python3.6/site-packages/flask/app.py\", line 2292, in wsgi_app\\n    response = self.full_dispatch_request()\\n  File \"/Users/pete/miniconda3/envs/cenv4/lib/python3.6/site-packages/flask/app.py\", line 1815, in full_dispatch_request\\n    rv = self.handle_user_exception(e)\\n  File \"/Users/pete/miniconda3/envs/cenv4/lib/python3.6/site-packages/flask_cors/extension.py\", line 161, in wrapped_function\\n    return cors_after_request(app.make_response(f(*args, **kwargs)))\\n  File \"/Users/pete/miniconda3/envs/cenv4/lib/python3.6/site-packages/flask/app.py\", line 1718, in handle_user_exception\\n    reraise(exc_type, exc_value, tb)\\n  File \"/Users/pete/miniconda3/envs/cenv4/lib/python3.6/site-packages/flask/_compat.py\", line 35, in reraise\\n    raise value\\n  File \"/Users/pete/miniconda3/envs/cenv4/lib/python3.6/site-packages/flask/app.py\", line 1813, in full_dispatch_request\\n    rv = self.dispatch_request()\\n  File \"/Users/pete/miniconda3/envs/cenv4/lib/python3.6/site-packages/flask/app.py\", line 1799, in dispatch_request\\n    return self.view_functions[rule.endpoint](**req.view_args)\\n  File \"/Users/pete/projects/higlass-python/higlass/server.py\", line 207, in tiles\\n    tiles.extend(ts.tiles(tids))\\n  File \"/Users/pete/projects/higlass-python/higlass/tilesets.py\", line 43, in tiles\\n    return self.tiles_fn(tile_ids)\\n  File \"/Users/pete/projects/higlass-python/higlass/tilesets.py\", line 60, in <lambda>\\n    tiles=lambda tids: hgbi.tiles(filepath, tids, chromsizes=chromsizes),\\n  File \"/Users/pete/projects/clodius/clodius/tiles/bigwig.py\", line 248, in tiles\\n    chromsizes_to_use = get_chromsizes(bwpath)\\n  File \"/Users/pete/projects/clodius/clodius/tiles/bigwig.py\", line 82, in get_chromsizes\\n    chromsizes = bbi.chromsizes(bwpath)\\n  File \"bbi/cbbi.pyx\", line 137, in bbi.cbbi.chromsizes\\n    \\n  File \"bbi/cbbi.pyx\", line 50, in bbi.cbbi._check_sig\\n    \\n  File \"bbi/cbbi.pyx\", line 38, in bbi.cbbi._read_magic\\n    \\n  File \"bbi/cbbi.pyx\", line 39, in bbi.cbbi._read_magic\\n    \\nOSError: [Errno 22] Invalid argument\\n\\n-->\\n'\n"
     ]
    }
   ],
   "source": [
    "url = 'http://localhost:{}/api/v1/tiles/?d={}.2.0.0&d={}.2.1.0&d={}.2.1.2'.format(server.port, uid, uid, uid)\n",
    "#url = \"http://localhost:8111/wgEncodeCaltechRnaSeqHuvecR1x75dTh1014IlnaPlusSignalRep2.bigWig\"\n",
    "req = requests.get(url)\n",
    "print('req', req.content)"
   ]
  },
  {
   "cell_type": "code",
   "execution_count": 22,
   "metadata": {},
   "outputs": [
    {
     "name": "stdout",
     "output_type": "stream",
     "text": [
      "url: http://localhost:63713/api/v1/register_url/\n",
      "content: {'uid': 'KgbB8zcHSxSrQU8GcwqVgw'}\n",
      "CPU times: user 6.19 ms, sys: 1.82 ms, total: 8 ms\n",
      "Wall time: 23.7 ms\n"
     ]
    }
   ],
   "source": [
    "%%time\n",
    "\n",
    "import requests\n",
    "import json\n",
    "\n",
    "url = 'http://localhost:{}/api/v1/register_url/'.format(server.port)\n",
    "print('url:', url)\n",
    "ret = requests.post(url,\n",
    "             json={\n",
    "                 'fileUrl': 'https://s3.amazonaws.com/pkerp/public/Dixon2012-J1-NcoI-R1-filtered.100kb.multires.cool',\n",
    "                 #'fileUrl': 'http://localhost:8111/wgEncodeCaltechRnaSeqHuvecR1x75dTh1014IlnaPlusSignalRep2.bigWig',\n",
    "                 'filetype': \"cooler\"\n",
    "             })\n",
    "uid = json.loads(ret.content)['uid']\n",
    "print(\"content:\", json.loads(ret.content))\n",
    "\n",
    "\"\"\"\n",
    "url = 'http://localhost:{}/api/v1/tileset_info/?d={}'.format(server.port, uid)\n",
    "print('url:', url);\n",
    "req = requests.get(url)\n",
    "print('req', req.content)\n",
    "\"\"\""
   ]
  },
  {
   "cell_type": "code",
   "execution_count": 23,
   "metadata": {},
   "outputs": [
    {
     "name": "stdout",
     "output_type": "stream",
     "text": [
      "req b'<!DOCTYPE HTML PUBLIC \"-//W3C//DTD HTML 4.01 Transitional//EN\"\\n  \"http://www.w3.org/TR/html4/loose.dtd\">\\n<html>\\n  <head>\\n    <title>OSError: Unable to open file (Unable to open file: name = \\'/tmp/higlass-python/hpps////s3.amazonaws.com/pkerp/public/dixon2012-j1-ncoi-r1-filtered.100kb.multires.cool..\\', errno = 6, error message = \\'device not configured\\', flags = 0, o_flags = 0) // Werkzeug Debugger</title>\\n    <link rel=\"stylesheet\" href=\"?__debugger__=yes&amp;cmd=resource&amp;f=style.css\"\\n        type=\"text/css\">\\n    <!-- We need to make sure this has a favicon so that the debugger does\\n         not by accident trigger a request to /favicon.ico which might\\n         change the application state. -->\\n    <link rel=\"shortcut icon\"\\n        href=\"?__debugger__=yes&amp;cmd=resource&amp;f=console.png\">\\n    <script src=\"?__debugger__=yes&amp;cmd=resource&amp;f=jquery.js\"></script>\\n    <script src=\"?__debugger__=yes&amp;cmd=resource&amp;f=debugger.js\"></script>\\n    <script type=\"text/javascript\">\\n      var TRACEBACK = 4782250360,\\n          CONSOLE_MODE = false,\\n          EVALEX = true,\\n          EVALEX_TRUSTED = false,\\n          SECRET = \"UAgnDzRr4TGxUjyBiH5q\";\\n    </script>\\n  </head>\\n  <body style=\"background-color: #fff\">\\n    <div class=\"debugger\">\\n<h1>builtins.OSError</h1>\\n<div class=\"detail\">\\n  <p class=\"errormsg\">OSError: Unable to open file (Unable to open file: name = \\'/tmp/higlass-python/hpps////s3.amazonaws.com/pkerp/public/dixon2012-j1-ncoi-r1-filtered.100kb.multires.cool..\\', errno = 6, error message = \\'device not configured\\', flags = 0, o_flags = 0)</p>\\n</div>\\n<h2 class=\"traceback\">Traceback <em>(most recent call last)</em></h2>\\n<div class=\"traceback\">\\n  \\n  <ul><li><div class=\"frame\" id=\"frame-4782250248\">\\n  <h4>File <cite class=\"filename\">\"/Users/pete/miniconda3/envs/cenv4/lib/python3.6/site-packages/flask/app.py\"</cite>,\\n      line <em class=\"line\">2309</em>,\\n      in <code class=\"function\">__call__</code></h4>\\n  <div class=\"source\"><pre class=\"line before\"><span class=\"ws\"></span> </pre>\\n<pre class=\"line before\"><span class=\"ws\">    </span>def __call__(self, environ, start_response):</pre>\\n<pre class=\"line before\"><span class=\"ws\">        </span>&quot;&quot;&quot;The WSGI server calls the Flask application object as the</pre>\\n<pre class=\"line before\"><span class=\"ws\">        </span>WSGI application. This calls :meth:`wsgi_app` which can be</pre>\\n<pre class=\"line before\"><span class=\"ws\">        </span>wrapped to applying middleware.&quot;&quot;&quot;</pre>\\n<pre class=\"line current\"><span class=\"ws\">        </span>return self.wsgi_app(environ, start_response)</pre>\\n<pre class=\"line after\"><span class=\"ws\"></span> </pre>\\n<pre class=\"line after\"><span class=\"ws\">    </span>def __repr__(self):</pre>\\n<pre class=\"line after\"><span class=\"ws\">        </span>return \\'&lt;%s %r&gt;\\' % (</pre>\\n<pre class=\"line after\"><span class=\"ws\">            </span>self.__class__.__name__,</pre>\\n<pre class=\"line after\"><span class=\"ws\">            </span>self.name,</pre></div>\\n</div>\\n\\n<li><div class=\"frame\" id=\"frame-4782251032\">\\n  <h4>File <cite class=\"filename\">\"/Users/pete/miniconda3/envs/cenv4/lib/python3.6/site-packages/flask/app.py\"</cite>,\\n      line <em class=\"line\">2295</em>,\\n      in <code class=\"function\">wsgi_app</code></h4>\\n  <div class=\"source\"><pre class=\"line before\"><span class=\"ws\">            </span>try:</pre>\\n<pre class=\"line before\"><span class=\"ws\">                </span>ctx.push()</pre>\\n<pre class=\"line before\"><span class=\"ws\">                </span>response = self.full_dispatch_request()</pre>\\n<pre class=\"line before\"><span class=\"ws\">            </span>except Exception as e:</pre>\\n<pre class=\"line before\"><span class=\"ws\">                </span>error = e</pre>\\n<pre class=\"line current\"><span class=\"ws\">                </span>response = self.handle_exception(e)</pre>\\n<pre class=\"line after\"><span class=\"ws\">            </span>except:</pre>\\n<pre class=\"line after\"><span class=\"ws\">                </span>error = sys.exc_info()[1]</pre>\\n<pre class=\"line after\"><span class=\"ws\">                </span>raise</pre>\\n<pre class=\"line after\"><span class=\"ws\">            </span>return response(environ, start_response)</pre>\\n<pre class=\"line after\"><span class=\"ws\">        </span>finally:</pre></div>\\n</div>\\n\\n<li><div class=\"frame\" id=\"frame-4782251088\">\\n  <h4>File <cite class=\"filename\">\"/Users/pete/miniconda3/envs/cenv4/lib/python3.6/site-packages/flask_cors/extension.py\"</cite>,\\n      line <em class=\"line\">161</em>,\\n      in <code class=\"function\">wrapped_function</code></h4>\\n  <div class=\"source\"><pre class=\"line before\"><span class=\"ws\">        </span># Wrap exception handlers with cross_origin</pre>\\n<pre class=\"line before\"><span class=\"ws\">        </span># These error handlers will still respect the behavior of the route</pre>\\n<pre class=\"line before\"><span class=\"ws\">        </span>if options.get(\\'intercept_exceptions\\', True):</pre>\\n<pre class=\"line before\"><span class=\"ws\">            </span>def _after_request_decorator(f):</pre>\\n<pre class=\"line before\"><span class=\"ws\">                </span>def wrapped_function(*args, **kwargs):</pre>\\n<pre class=\"line current\"><span class=\"ws\">                    </span>return cors_after_request(app.make_response(f(*args, **kwargs)))</pre>\\n<pre class=\"line after\"><span class=\"ws\">                </span>return wrapped_function</pre>\\n<pre class=\"line after\"><span class=\"ws\"></span> </pre>\\n<pre class=\"line after\"><span class=\"ws\">            </span>if hasattr(app, \\'handle_exception\\'):</pre>\\n<pre class=\"line after\"><span class=\"ws\">                </span>app.handle_exception = _after_request_decorator(</pre>\\n<pre class=\"line after\"><span class=\"ws\">                    </span>app.handle_exception)</pre></div>\\n</div>\\n\\n<li><div class=\"frame\" id=\"frame-4782250752\">\\n  <h4>File <cite class=\"filename\">\"/Users/pete/miniconda3/envs/cenv4/lib/python3.6/site-packages/flask/app.py\"</cite>,\\n      line <em class=\"line\">1741</em>,\\n      in <code class=\"function\">handle_exception</code></h4>\\n  <div class=\"source\"><pre class=\"line before\"><span class=\"ws\">            </span># if we want to repropagate the exception, we can attempt to</pre>\\n<pre class=\"line before\"><span class=\"ws\">            </span># raise it with the whole traceback in case we can do that</pre>\\n<pre class=\"line before\"><span class=\"ws\">            </span># (the function was actually called from the except part)</pre>\\n<pre class=\"line before\"><span class=\"ws\">            </span># otherwise, we just raise the error again</pre>\\n<pre class=\"line before\"><span class=\"ws\">            </span>if exc_value is e:</pre>\\n<pre class=\"line current\"><span class=\"ws\">                </span>reraise(exc_type, exc_value, tb)</pre>\\n<pre class=\"line after\"><span class=\"ws\">            </span>else:</pre>\\n<pre class=\"line after\"><span class=\"ws\">                </span>raise e</pre>\\n<pre class=\"line after\"><span class=\"ws\"></span> </pre>\\n<pre class=\"line after\"><span class=\"ws\">        </span>self.log_exception((exc_type, exc_value, tb))</pre>\\n<pre class=\"line after\"><span class=\"ws\">        </span>if handler is None:</pre></div>\\n</div>\\n\\n<li><div class=\"frame\" id=\"frame-4782251200\">\\n  <h4>File <cite class=\"filename\">\"/Users/pete/miniconda3/envs/cenv4/lib/python3.6/site-packages/flask/_compat.py\"</cite>,\\n      line <em class=\"line\">35</em>,\\n      in <code class=\"function\">reraise</code></h4>\\n  <div class=\"source\"><pre class=\"line before\"><span class=\"ws\">    </span>from io import StringIO</pre>\\n<pre class=\"line before\"><span class=\"ws\"></span> </pre>\\n<pre class=\"line before\"><span class=\"ws\">    </span>def reraise(tp, value, tb=None):</pre>\\n<pre class=\"line before\"><span class=\"ws\">        </span>if value.__traceback__ is not tb:</pre>\\n<pre class=\"line before\"><span class=\"ws\">            </span>raise value.with_traceback(tb)</pre>\\n<pre class=\"line current\"><span class=\"ws\">        </span>raise value</pre>\\n<pre class=\"line after\"><span class=\"ws\"></span> </pre>\\n<pre class=\"line after\"><span class=\"ws\">    </span>implements_to_string = _identity</pre>\\n<pre class=\"line after\"><span class=\"ws\"></span> </pre>\\n<pre class=\"line after\"><span class=\"ws\"></span>else:</pre>\\n<pre class=\"line after\"><span class=\"ws\">    </span>text_type = unicode</pre></div>\\n</div>\\n\\n<li><div class=\"frame\" id=\"frame-4782250640\">\\n  <h4>File <cite class=\"filename\">\"/Users/pete/miniconda3/envs/cenv4/lib/python3.6/site-packages/flask/app.py\"</cite>,\\n      line <em class=\"line\">2292</em>,\\n      in <code class=\"function\">wsgi_app</code></h4>\\n  <div class=\"source\"><pre class=\"line before\"><span class=\"ws\">        </span>ctx = self.request_context(environ)</pre>\\n<pre class=\"line before\"><span class=\"ws\">        </span>error = None</pre>\\n<pre class=\"line before\"><span class=\"ws\">        </span>try:</pre>\\n<pre class=\"line before\"><span class=\"ws\">            </span>try:</pre>\\n<pre class=\"line before\"><span class=\"ws\">                </span>ctx.push()</pre>\\n<pre class=\"line current\"><span class=\"ws\">                </span>response = self.full_dispatch_request()</pre>\\n<pre class=\"line after\"><span class=\"ws\">            </span>except Exception as e:</pre>\\n<pre class=\"line after\"><span class=\"ws\">                </span>error = e</pre>\\n<pre class=\"line after\"><span class=\"ws\">                </span>response = self.handle_exception(e)</pre>\\n<pre class=\"line after\"><span class=\"ws\">            </span>except:</pre>\\n<pre class=\"line after\"><span class=\"ws\">                </span>error = sys.exc_info()[1]</pre></div>\\n</div>\\n\\n<li><div class=\"frame\" id=\"frame-4782251312\">\\n  <h4>File <cite class=\"filename\">\"/Users/pete/miniconda3/envs/cenv4/lib/python3.6/site-packages/flask/app.py\"</cite>,\\n      line <em class=\"line\">1815</em>,\\n      in <code class=\"function\">full_dispatch_request</code></h4>\\n  <div class=\"source\"><pre class=\"line before\"><span class=\"ws\">            </span>request_started.send(self)</pre>\\n<pre class=\"line before\"><span class=\"ws\">            </span>rv = self.preprocess_request()</pre>\\n<pre class=\"line before\"><span class=\"ws\">            </span>if rv is None:</pre>\\n<pre class=\"line before\"><span class=\"ws\">                </span>rv = self.dispatch_request()</pre>\\n<pre class=\"line before\"><span class=\"ws\">        </span>except Exception as e:</pre>\\n<pre class=\"line current\"><span class=\"ws\">            </span>rv = self.handle_user_exception(e)</pre>\\n<pre class=\"line after\"><span class=\"ws\">        </span>return self.finalize_request(rv)</pre>\\n<pre class=\"line after\"><span class=\"ws\"></span> </pre>\\n<pre class=\"line after\"><span class=\"ws\">    </span>def finalize_request(self, rv, from_error_handler=False):</pre>\\n<pre class=\"line after\"><span class=\"ws\">        </span>&quot;&quot;&quot;Given the return value from a view function this finalizes</pre>\\n<pre class=\"line after\"><span class=\"ws\">        </span>the request by converting it into a response and invoking the</pre></div>\\n</div>\\n\\n<li><div class=\"frame\" id=\"frame-4782251368\">\\n  <h4>File <cite class=\"filename\">\"/Users/pete/miniconda3/envs/cenv4/lib/python3.6/site-packages/flask_cors/extension.py\"</cite>,\\n      line <em class=\"line\">161</em>,\\n      in <code class=\"function\">wrapped_function</code></h4>\\n  <div class=\"source\"><pre class=\"line before\"><span class=\"ws\">        </span># Wrap exception handlers with cross_origin</pre>\\n<pre class=\"line before\"><span class=\"ws\">        </span># These error handlers will still respect the behavior of the route</pre>\\n<pre class=\"line before\"><span class=\"ws\">        </span>if options.get(\\'intercept_exceptions\\', True):</pre>\\n<pre class=\"line before\"><span class=\"ws\">            </span>def _after_request_decorator(f):</pre>\\n<pre class=\"line before\"><span class=\"ws\">                </span>def wrapped_function(*args, **kwargs):</pre>\\n<pre class=\"line current\"><span class=\"ws\">                    </span>return cors_after_request(app.make_response(f(*args, **kwargs)))</pre>\\n<pre class=\"line after\"><span class=\"ws\">                </span>return wrapped_function</pre>\\n<pre class=\"line after\"><span class=\"ws\"></span> </pre>\\n<pre class=\"line after\"><span class=\"ws\">            </span>if hasattr(app, \\'handle_exception\\'):</pre>\\n<pre class=\"line after\"><span class=\"ws\">                </span>app.handle_exception = _after_request_decorator(</pre>\\n<pre class=\"line after\"><span class=\"ws\">                    </span>app.handle_exception)</pre></div>\\n</div>\\n\\n<li><div class=\"frame\" id=\"frame-4782250920\">\\n  <h4>File <cite class=\"filename\">\"/Users/pete/miniconda3/envs/cenv4/lib/python3.6/site-packages/flask/app.py\"</cite>,\\n      line <em class=\"line\">1718</em>,\\n      in <code class=\"function\">handle_user_exception</code></h4>\\n  <div class=\"source\"><pre class=\"line before\"><span class=\"ws\">            </span>return self.handle_http_exception(e)</pre>\\n<pre class=\"line before\"><span class=\"ws\"></span> </pre>\\n<pre class=\"line before\"><span class=\"ws\">        </span>handler = self._find_error_handler(e)</pre>\\n<pre class=\"line before\"><span class=\"ws\"></span> </pre>\\n<pre class=\"line before\"><span class=\"ws\">        </span>if handler is None:</pre>\\n<pre class=\"line current\"><span class=\"ws\">            </span>reraise(exc_type, exc_value, tb)</pre>\\n<pre class=\"line after\"><span class=\"ws\">        </span>return handler(e)</pre>\\n<pre class=\"line after\"><span class=\"ws\"></span> </pre>\\n<pre class=\"line after\"><span class=\"ws\">    </span>def handle_exception(self, e):</pre>\\n<pre class=\"line after\"><span class=\"ws\">        </span>&quot;&quot;&quot;Default exception handling that kicks in when an exception</pre>\\n<pre class=\"line after\"><span class=\"ws\">        </span>occurs that is not caught.  In debug mode the exception will</pre></div>\\n</div>\\n\\n<li><div class=\"frame\" id=\"frame-4782251480\">\\n  <h4>File <cite class=\"filename\">\"/Users/pete/miniconda3/envs/cenv4/lib/python3.6/site-packages/flask/_compat.py\"</cite>,\\n      line <em class=\"line\">35</em>,\\n      in <code class=\"function\">reraise</code></h4>\\n  <div class=\"source\"><pre class=\"line before\"><span class=\"ws\">    </span>from io import StringIO</pre>\\n<pre class=\"line before\"><span class=\"ws\"></span> </pre>\\n<pre class=\"line before\"><span class=\"ws\">    </span>def reraise(tp, value, tb=None):</pre>\\n<pre class=\"line before\"><span class=\"ws\">        </span>if value.__traceback__ is not tb:</pre>\\n<pre class=\"line before\"><span class=\"ws\">            </span>raise value.with_traceback(tb)</pre>\\n<pre class=\"line current\"><span class=\"ws\">        </span>raise value</pre>\\n<pre class=\"line after\"><span class=\"ws\"></span> </pre>\\n<pre class=\"line after\"><span class=\"ws\">    </span>implements_to_string = _identity</pre>\\n<pre class=\"line after\"><span class=\"ws\"></span> </pre>\\n<pre class=\"line after\"><span class=\"ws\"></span>else:</pre>\\n<pre class=\"line after\"><span class=\"ws\">    </span>text_type = unicode</pre></div>\\n</div>\\n\\n<li><div class=\"frame\" id=\"frame-4782250696\">\\n  <h4>File <cite class=\"filename\">\"/Users/pete/miniconda3/envs/cenv4/lib/python3.6/site-packages/flask/app.py\"</cite>,\\n      line <em class=\"line\">1813</em>,\\n      in <code class=\"function\">full_dispatch_request</code></h4>\\n  <div class=\"source\"><pre class=\"line before\"><span class=\"ws\">        </span>self.try_trigger_before_first_request_functions()</pre>\\n<pre class=\"line before\"><span class=\"ws\">        </span>try:</pre>\\n<pre class=\"line before\"><span class=\"ws\">            </span>request_started.send(self)</pre>\\n<pre class=\"line before\"><span class=\"ws\">            </span>rv = self.preprocess_request()</pre>\\n<pre class=\"line before\"><span class=\"ws\">            </span>if rv is None:</pre>\\n<pre class=\"line current\"><span class=\"ws\">                </span>rv = self.dispatch_request()</pre>\\n<pre class=\"line after\"><span class=\"ws\">        </span>except Exception as e:</pre>\\n<pre class=\"line after\"><span class=\"ws\">            </span>rv = self.handle_user_exception(e)</pre>\\n<pre class=\"line after\"><span class=\"ws\">        </span>return self.finalize_request(rv)</pre>\\n<pre class=\"line after\"><span class=\"ws\"></span> </pre>\\n<pre class=\"line after\"><span class=\"ws\">    </span>def finalize_request(self, rv, from_error_handler=False):</pre></div>\\n</div>\\n\\n<li><div class=\"frame\" id=\"frame-4782251592\">\\n  <h4>File <cite class=\"filename\">\"/Users/pete/miniconda3/envs/cenv4/lib/python3.6/site-packages/flask/app.py\"</cite>,\\n      line <em class=\"line\">1799</em>,\\n      in <code class=\"function\">dispatch_request</code></h4>\\n  <div class=\"source\"><pre class=\"line before\"><span class=\"ws\">        </span># request came with the OPTIONS method, reply automatically</pre>\\n<pre class=\"line before\"><span class=\"ws\">        </span>if getattr(rule, \\'provide_automatic_options\\', False) \\\\</pre>\\n<pre class=\"line before\"><span class=\"ws\">           </span>and req.method == \\'OPTIONS\\':</pre>\\n<pre class=\"line before\"><span class=\"ws\">            </span>return self.make_default_options_response()</pre>\\n<pre class=\"line before\"><span class=\"ws\">        </span># otherwise dispatch to the handler for that endpoint</pre>\\n<pre class=\"line current\"><span class=\"ws\">        </span>return self.view_functions[rule.endpoint](**req.view_args)</pre>\\n<pre class=\"line after\"><span class=\"ws\"></span> </pre>\\n<pre class=\"line after\"><span class=\"ws\">    </span>def full_dispatch_request(self):</pre>\\n<pre class=\"line after\"><span class=\"ws\">        </span>&quot;&quot;&quot;Dispatches the request and on top of that performs request</pre>\\n<pre class=\"line after\"><span class=\"ws\">        </span>pre and postprocessing as well as HTTP exception catching and</pre>\\n<pre class=\"line after\"><span class=\"ws\">        </span>error handling.</pre></div>\\n</div>\\n\\n<li><div class=\"frame\" id=\"frame-4782251648\">\\n  <h4>File <cite class=\"filename\">\"/Users/pete/projects/higlass-python/higlass/server.py\"</cite>,\\n      line <em class=\"line\">207</em>,\\n      in <code class=\"function\">tiles</code></h4>\\n  <div class=\"source\"><pre class=\"line before\"><span class=\"ws\">        </span>uuids_to_tids = toolz.groupby(extract_uuid, tids_requested)</pre>\\n<pre class=\"line before\"><span class=\"ws\"></span> </pre>\\n<pre class=\"line before\"><span class=\"ws\">        </span>tiles = []</pre>\\n<pre class=\"line before\"><span class=\"ws\">        </span>for uuid, tids in uuids_to_tids.items():</pre>\\n<pre class=\"line before\"><span class=\"ws\">            </span>ts = next((ts for ts in list_tilesets() if ts.uuid == uuid), None)</pre>\\n<pre class=\"line current\"><span class=\"ws\">            </span>tiles.extend(ts.tiles(tids))</pre>\\n<pre class=\"line after\"><span class=\"ws\">        </span>data = {tid: tval for tid, tval in tiles}</pre>\\n<pre class=\"line after\"><span class=\"ws\">        </span>return jsonify(data)</pre>\\n<pre class=\"line after\"><span class=\"ws\"></span> </pre>\\n<pre class=\"line after\"><span class=\"ws\">    </span>logging.basicConfig(</pre>\\n<pre class=\"line after\"><span class=\"ws\">        </span>level=log_level,</pre></div>\\n</div>\\n\\n<li><div class=\"frame\" id=\"frame-4782251256\">\\n  <h4>File <cite class=\"filename\">\"/Users/pete/projects/higlass-python/higlass/tilesets.py\"</cite>,\\n      line <em class=\"line\">43</em>,\\n      in <code class=\"function\">tiles</code></h4>\\n  <div class=\"source\"><pre class=\"line before\"><span class=\"ws\"></span> </pre>\\n<pre class=\"line before\"><span class=\"ws\">    </span>def tileset_info(self):</pre>\\n<pre class=\"line before\"><span class=\"ws\">        </span>return self.tileset_info_fn()</pre>\\n<pre class=\"line before\"><span class=\"ws\"></span> </pre>\\n<pre class=\"line before\"><span class=\"ws\">    </span>def tiles(self, tile_ids ):</pre>\\n<pre class=\"line current\"><span class=\"ws\">        </span>return self.tiles_fn(tile_ids)</pre>\\n<pre class=\"line after\"><span class=\"ws\"></span> </pre>\\n<pre class=\"line after\"><span class=\"ws\">    </span>def chromsizes(self):</pre>\\n<pre class=\"line after\"><span class=\"ws\">        </span>return self.chromsizes_fn()</pre>\\n<pre class=\"line after\"><span class=\"ws\"></span> </pre>\\n<pre class=\"line after\"><span class=\"ws\"></span>def cooler(filepath, uuid=None):</pre></div>\\n</div>\\n\\n<li><div class=\"frame\" id=\"frame-4782250864\">\\n  <h4>File <cite class=\"filename\">\"/Users/pete/projects/higlass-python/higlass/tilesets.py\"</cite>,\\n      line <em class=\"line\">51</em>,\\n      in <code class=\"function\">&lt;lambda&gt;</code></h4>\\n  <div class=\"source\"><pre class=\"line before\"><span class=\"ws\">        </span>return self.chromsizes_fn()</pre>\\n<pre class=\"line before\"><span class=\"ws\"></span> </pre>\\n<pre class=\"line before\"><span class=\"ws\"></span>def cooler(filepath, uuid=None):</pre>\\n<pre class=\"line before\"><span class=\"ws\">    </span>return Tileset(</pre>\\n<pre class=\"line before\"><span class=\"ws\">            </span>tileset_info=lambda: hgco.tileset_info(filepath),</pre>\\n<pre class=\"line current\"><span class=\"ws\">            </span>tiles=lambda tids: hgco.tiles(filepath, tids),</pre>\\n<pre class=\"line after\"><span class=\"ws\">            </span>uuid=uuid,</pre>\\n<pre class=\"line after\"><span class=\"ws\">            </span>track_type=\\'heatmap\\',</pre>\\n<pre class=\"line after\"><span class=\"ws\">            </span>track_position=\\'center\\'</pre>\\n<pre class=\"line after\"><span class=\"ws\">        </span>)</pre>\\n<pre class=\"line after\"><span class=\"ws\"></span> </pre></div>\\n</div>\\n\\n<li><div class=\"frame\" id=\"frame-4782251424\">\\n  <h4>File <cite class=\"filename\">\"/Users/pete/projects/clodius/clodius/tiles/cooler.py\"</cite>,\\n      line <em class=\"line\">559</em>,\\n      in <code class=\"function\">tiles</code></h4>\\n  <div class=\"source\"><pre class=\"line before\"><span class=\"ws\">    </span>for tile_id in tile_ids:</pre>\\n<pre class=\"line before\"><span class=\"ws\">        </span>new_tile_id = add_transform_type(tile_id)</pre>\\n<pre class=\"line before\"><span class=\"ws\">        </span>transform_id_to_original_id[new_tile_id] = tile_id</pre>\\n<pre class=\"line before\"><span class=\"ws\">        </span>new_tile_ids += [new_tile_id]</pre>\\n<pre class=\"line before\"><span class=\"ws\"></span> </pre>\\n<pre class=\"line current\"><span class=\"ws\">    </span>generated_tiles = generate_tiles(filepath, new_tile_ids)</pre>\\n<pre class=\"line after\"><span class=\"ws\"></span> </pre>\\n<pre class=\"line after\"><span class=\"ws\">    </span>tiles_to_return = []</pre>\\n<pre class=\"line after\"><span class=\"ws\">    </span>for tile_id, tile_value in generated_tiles:</pre>\\n<pre class=\"line after\"><span class=\"ws\">        </span>if tile_id in transform_id_to_original_id:</pre>\\n<pre class=\"line after\"><span class=\"ws\">            </span>original_tile_id = transform_id_to_original_id[tile_id]</pre></div>\\n</div>\\n\\n<li><div class=\"frame\" id=\"frame-4782251704\">\\n  <h4>File <cite class=\"filename\">\"/Users/pete/projects/clodius/clodius/tiles/cooler.py\"</cite>,\\n      line <em class=\"line\">590</em>,\\n      in <code class=\"function\">generate_tiles</code></h4>\\n  <div class=\"source\"><pre class=\"line before\"><span class=\"ws\">    </span>\\'\\'\\'</pre>\\n<pre class=\"line before\"><span class=\"ws\">    </span>BINS_PER_TILE = 256</pre>\\n<pre class=\"line before\"><span class=\"ws\"></span> </pre>\\n<pre class=\"line before\"><span class=\"ws\">    </span>if filepath not in mats:</pre>\\n<pre class=\"line before\"><span class=\"ws\">        </span># check if this tileset is open</pre>\\n<pre class=\"line current\"><span class=\"ws\">        </span>make_mats(filepath)</pre>\\n<pre class=\"line after\"><span class=\"ws\"></span> </pre>\\n<pre class=\"line after\"><span class=\"ws\">    </span>tileset_file_and_info = mats[filepath]</pre>\\n<pre class=\"line after\"><span class=\"ws\"></span> </pre>\\n<pre class=\"line after\"><span class=\"ws\">    </span>tile_ids_by_zoom_and_transform = bin_tiles_by_zoom_level_and_transform(tile_ids).values()</pre>\\n<pre class=\"line after\"><span class=\"ws\">    </span>partitioned_tile_ids = list(it.chain(*[hgut.partition_by_adjacent_tiles(t)</pre></div>\\n</div>\\n\\n<li><div class=\"frame\" id=\"frame-4782251760\">\\n  <h4>File <cite class=\"filename\">\"/Users/pete/projects/clodius/clodius/tiles/cooler.py\"</cite>,\\n      line <em class=\"line\">456</em>,\\n      in <code class=\"function\">make_mats</code></h4>\\n  <div class=\"source\"><pre class=\"line before\"><span class=\"ws\"></span>def make_mats(filepath):</pre>\\n<pre class=\"line before\"><span class=\"ws\">    </span>\\'\\'\\'</pre>\\n<pre class=\"line before\"><span class=\"ws\">    </span>Create the file handle and tileset info for a cooler</pre>\\n<pre class=\"line before\"><span class=\"ws\">    </span>tileset</pre>\\n<pre class=\"line before\"><span class=\"ws\">    </span>\\'\\'\\'</pre>\\n<pre class=\"line current\"><span class=\"ws\">    </span>f = h5py.File(filepath, \\'r\\')</pre>\\n<pre class=\"line after\"><span class=\"ws\"></span> </pre>\\n<pre class=\"line after\"><span class=\"ws\">    </span>if \\'resolutions\\' in f:</pre>\\n<pre class=\"line after\"><span class=\"ws\">        </span># this file contains raw resolutions so it\\'ll return a different</pre>\\n<pre class=\"line after\"><span class=\"ws\">        </span># sort of tileset info</pre>\\n<pre class=\"line after\"><span class=\"ws\">        </span>info = {&quot;resolutions&quot;: tuple(sorted(map(int, list(f[\\'resolutions\\'].keys())))) }</pre></div>\\n</div>\\n\\n<li><div class=\"frame\" id=\"frame-4782251816\">\\n  <h4>File <cite class=\"filename\">\"/Users/pete/miniconda3/envs/cenv4/lib/python3.6/site-packages/h5py/_hl/files.py\"</cite>,\\n      line <em class=\"line\">272</em>,\\n      in <code class=\"function\">__init__</code></h4>\\n  <div class=\"source\"><pre class=\"line before\"><span class=\"ws\">                    </span>name = name.encode(sys.getfilesystemencoding())</pre>\\n<pre class=\"line before\"><span class=\"ws\">                </span>except (UnicodeError, LookupError):</pre>\\n<pre class=\"line before\"><span class=\"ws\">                    </span>pass</pre>\\n<pre class=\"line before\"><span class=\"ws\"></span> </pre>\\n<pre class=\"line before\"><span class=\"ws\">                </span>fapl = make_fapl(driver, libver, **kwds)</pre>\\n<pre class=\"line current\"><span class=\"ws\">                </span>fid = make_fid(name, mode, userblock_size, fapl, swmr=swmr)</pre>\\n<pre class=\"line after\"><span class=\"ws\"></span> </pre>\\n<pre class=\"line after\"><span class=\"ws\">                </span>if swmr_support:</pre>\\n<pre class=\"line after\"><span class=\"ws\">                    </span>self._swmr_mode = False</pre>\\n<pre class=\"line after\"><span class=\"ws\">                    </span>if swmr and mode == \\'r\\':</pre>\\n<pre class=\"line after\"><span class=\"ws\">                        </span>self._swmr_mode = True</pre></div>\\n</div>\\n\\n<li><div class=\"frame\" id=\"frame-4782251872\">\\n  <h4>File <cite class=\"filename\">\"/Users/pete/miniconda3/envs/cenv4/lib/python3.6/site-packages/h5py/_hl/files.py\"</cite>,\\n      line <em class=\"line\">92</em>,\\n      in <code class=\"function\">make_fid</code></h4>\\n  <div class=\"source\"><pre class=\"line before\"><span class=\"ws\"></span> </pre>\\n<pre class=\"line before\"><span class=\"ws\">    </span>if mode == \\'r\\':</pre>\\n<pre class=\"line before\"><span class=\"ws\">        </span>flags = h5f.ACC_RDONLY</pre>\\n<pre class=\"line before\"><span class=\"ws\">        </span>if swmr and swmr_support:</pre>\\n<pre class=\"line before\"><span class=\"ws\">            </span>flags |= h5f.ACC_SWMR_READ</pre>\\n<pre class=\"line current\"><span class=\"ws\">        </span>fid = h5f.open(name, flags, fapl=fapl)</pre>\\n<pre class=\"line after\"><span class=\"ws\">    </span>elif mode == \\'r+\\':</pre>\\n<pre class=\"line after\"><span class=\"ws\">        </span>fid = h5f.open(name, h5f.ACC_RDWR, fapl=fapl)</pre>\\n<pre class=\"line after\"><span class=\"ws\">    </span>elif mode in [\\'w-\\', \\'x\\']:</pre>\\n<pre class=\"line after\"><span class=\"ws\">        </span>fid = h5f.create(name, h5f.ACC_EXCL, fapl=fapl, fcpl=fcpl)</pre>\\n<pre class=\"line after\"><span class=\"ws\">    </span>elif mode == \\'w\\':</pre></div>\\n</div>\\n\\n<li><div class=\"frame\" id=\"frame-4782251928\">\\n  <h4>File <cite class=\"filename\">\"h5py/_objects.pyx\"</cite>,\\n      line <em class=\"line\">54</em>,\\n      in <code class=\"function\">h5py._objects.with_phil.wrapper (/private/var/folders/my/m6ynh3bn6tq06h7xr3js0z7r0000gn/T/pip-z0d9zbgm-build/h5py/_objects.c:2853)</code></h4>\\n  <div class=\"source\"><pre class=\"line current\"><span class=\"ws\"></span> </pre></div>\\n</div>\\n\\n<li><div class=\"frame\" id=\"frame-4782250976\">\\n  <h4>File <cite class=\"filename\">\"h5py/_objects.pyx\"</cite>,\\n      line <em class=\"line\">55</em>,\\n      in <code class=\"function\">h5py._objects.with_phil.wrapper (/private/var/folders/my/m6ynh3bn6tq06h7xr3js0z7r0000gn/T/pip-z0d9zbgm-build/h5py/_objects.c:2811)</code></h4>\\n  <div class=\"source\"><pre class=\"line current\"><span class=\"ws\"></span> </pre></div>\\n</div>\\n\\n<li><div class=\"frame\" id=\"frame-4782251536\">\\n  <h4>File <cite class=\"filename\">\"h5py/h5f.pyx\"</cite>,\\n      line <em class=\"line\">76</em>,\\n      in <code class=\"function\">h5py.h5f.open (/private/var/folders/my/m6ynh3bn6tq06h7xr3js0z7r0000gn/T/pip-z0d9zbgm-build/h5py/h5f.c:2099)</code></h4>\\n  <div class=\"source\"><pre class=\"line current\"><span class=\"ws\"></span> </pre></div>\\n</div>\\n</ul>\\n  <blockquote>OSError: Unable to open file (Unable to open file: name = \\'/tmp/higlass-python/hpps////s3.amazonaws.com/pkerp/public/dixon2012-j1-ncoi-r1-filtered.100kb.multires.cool..\\', errno = 6, error message = \\'device not configured\\', flags = 0, o_flags = 0)</blockquote>\\n</div>\\n\\n<div class=\"plain\">\\n  <form action=\"/?__debugger__=yes&amp;cmd=paste\" method=\"post\">\\n    <p>\\n      <input type=\"hidden\" name=\"language\" value=\"pytb\">\\n      This is the Copy/Paste friendly version of the traceback.  <span\\n      class=\"pastemessage\">You can also paste this traceback into\\n      a <a href=\"https://gist.github.com/\">gist</a>:\\n      <input type=\"submit\" value=\"create paste\"></span>\\n    </p>\\n    <textarea cols=\"50\" rows=\"10\" name=\"code\" readonly>Traceback (most recent call last):\\n  File &quot;/Users/pete/miniconda3/envs/cenv4/lib/python3.6/site-packages/flask/app.py&quot;, line 2309, in __call__\\n    return self.wsgi_app(environ, start_response)\\n  File &quot;/Users/pete/miniconda3/envs/cenv4/lib/python3.6/site-packages/flask/app.py&quot;, line 2295, in wsgi_app\\n    response = self.handle_exception(e)\\n  File &quot;/Users/pete/miniconda3/envs/cenv4/lib/python3.6/site-packages/flask_cors/extension.py&quot;, line 161, in wrapped_function\\n    return cors_after_request(app.make_response(f(*args, **kwargs)))\\n  File &quot;/Users/pete/miniconda3/envs/cenv4/lib/python3.6/site-packages/flask/app.py&quot;, line 1741, in handle_exception\\n    reraise(exc_type, exc_value, tb)\\n  File &quot;/Users/pete/miniconda3/envs/cenv4/lib/python3.6/site-packages/flask/_compat.py&quot;, line 35, in reraise\\n    raise value\\n  File &quot;/Users/pete/miniconda3/envs/cenv4/lib/python3.6/site-packages/flask/app.py&quot;, line 2292, in wsgi_app\\n    response = self.full_dispatch_request()\\n  File &quot;/Users/pete/miniconda3/envs/cenv4/lib/python3.6/site-packages/flask/app.py&quot;, line 1815, in full_dispatch_request\\n    rv = self.handle_user_exception(e)\\n  File &quot;/Users/pete/miniconda3/envs/cenv4/lib/python3.6/site-packages/flask_cors/extension.py&quot;, line 161, in wrapped_function\\n    return cors_after_request(app.make_response(f(*args, **kwargs)))\\n  File &quot;/Users/pete/miniconda3/envs/cenv4/lib/python3.6/site-packages/flask/app.py&quot;, line 1718, in handle_user_exception\\n    reraise(exc_type, exc_value, tb)\\n  File &quot;/Users/pete/miniconda3/envs/cenv4/lib/python3.6/site-packages/flask/_compat.py&quot;, line 35, in reraise\\n    raise value\\n  File &quot;/Users/pete/miniconda3/envs/cenv4/lib/python3.6/site-packages/flask/app.py&quot;, line 1813, in full_dispatch_request\\n    rv = self.dispatch_request()\\n  File &quot;/Users/pete/miniconda3/envs/cenv4/lib/python3.6/site-packages/flask/app.py&quot;, line 1799, in dispatch_request\\n    return self.view_functions[rule.endpoint](**req.view_args)\\n  File &quot;/Users/pete/projects/higlass-python/higlass/server.py&quot;, line 207, in tiles\\n    tiles.extend(ts.tiles(tids))\\n  File &quot;/Users/pete/projects/higlass-python/higlass/tilesets.py&quot;, line 43, in tiles\\n    return self.tiles_fn(tile_ids)\\n  File &quot;/Users/pete/projects/higlass-python/higlass/tilesets.py&quot;, line 51, in &lt;lambda&gt;\\n    tiles=lambda tids: hgco.tiles(filepath, tids),\\n  File &quot;/Users/pete/projects/clodius/clodius/tiles/cooler.py&quot;, line 559, in tiles\\n    generated_tiles = generate_tiles(filepath, new_tile_ids)\\n  File &quot;/Users/pete/projects/clodius/clodius/tiles/cooler.py&quot;, line 590, in generate_tiles\\n    make_mats(filepath)\\n  File &quot;/Users/pete/projects/clodius/clodius/tiles/cooler.py&quot;, line 456, in make_mats\\n    f = h5py.File(filepath, \\'r\\')\\n  File &quot;/Users/pete/miniconda3/envs/cenv4/lib/python3.6/site-packages/h5py/_hl/files.py&quot;, line 272, in __init__\\n    fid = make_fid(name, mode, userblock_size, fapl, swmr=swmr)\\n  File &quot;/Users/pete/miniconda3/envs/cenv4/lib/python3.6/site-packages/h5py/_hl/files.py&quot;, line 92, in make_fid\\n    fid = h5f.open(name, flags, fapl=fapl)\\n  File &quot;h5py/_objects.pyx&quot;, line 54, in h5py._objects.with_phil.wrapper (/private/var/folders/my/m6ynh3bn6tq06h7xr3js0z7r0000gn/T/pip-z0d9zbgm-build/h5py/_objects.c:2853)\\n    \\n  File &quot;h5py/_objects.pyx&quot;, line 55, in h5py._objects.with_phil.wrapper (/private/var/folders/my/m6ynh3bn6tq06h7xr3js0z7r0000gn/T/pip-z0d9zbgm-build/h5py/_objects.c:2811)\\n    \\n  File &quot;h5py/h5f.pyx&quot;, line 76, in h5py.h5f.open (/private/var/folders/my/m6ynh3bn6tq06h7xr3js0z7r0000gn/T/pip-z0d9zbgm-build/h5py/h5f.c:2099)\\n    \\nOSError: Unable to open file (Unable to open file: name = \\'/tmp/higlass-python/hpps////s3.amazonaws.com/pkerp/public/dixon2012-j1-ncoi-r1-filtered.100kb.multires.cool..\\', errno = 6, error message = \\'device not configured\\', flags = 0, o_flags = 0)</textarea>\\n  </form>\\n</div>\\n<div class=\"explanation\">\\n  The debugger caught an exception in your WSGI application.  You can now\\n  look at the traceback which led to the error.  <span class=\"nojavascript\">\\n  If you enable JavaScript you can also use additional features such as code\\n  execution (if the evalex feature is enabled), automatic pasting of the\\n  exceptions and much more.</span>\\n</div>\\n      <div class=\"footer\">\\n        Brought to you by <strong class=\"arthur\">DON\\'T PANIC</strong>, your\\n        friendly Werkzeug powered traceback interpreter.\\n      </div>\\n    </div>\\n\\n    <div class=\"pin-prompt\">\\n      <div class=\"inner\">\\n        <h3>Console Locked</h3>\\n        <p>\\n          The console is locked and needs to be unlocked by entering the PIN.\\n          You can find the PIN printed out on the standard output of your\\n          shell that runs the server.\\n        <form>\\n          <p>PIN:\\n            <input type=text name=pin size=14>\\n            <input type=submit name=btn value=\"Confirm Pin\">\\n        </form>\\n      </div>\\n    </div>\\n  </body>\\n</html>\\n\\n<!--\\n\\nTraceback (most recent call last):\\n  File \"/Users/pete/miniconda3/envs/cenv4/lib/python3.6/site-packages/flask/app.py\", line 2309, in __call__\\n    return self.wsgi_app(environ, start_response)\\n  File \"/Users/pete/miniconda3/envs/cenv4/lib/python3.6/site-packages/flask/app.py\", line 2295, in wsgi_app\\n    response = self.handle_exception(e)\\n  File \"/Users/pete/miniconda3/envs/cenv4/lib/python3.6/site-packages/flask_cors/extension.py\", line 161, in wrapped_function\\n    return cors_after_request(app.make_response(f(*args, **kwargs)))\\n  File \"/Users/pete/miniconda3/envs/cenv4/lib/python3.6/site-packages/flask/app.py\", line 1741, in handle_exception\\n    reraise(exc_type, exc_value, tb)\\n  File \"/Users/pete/miniconda3/envs/cenv4/lib/python3.6/site-packages/flask/_compat.py\", line 35, in reraise\\n    raise value\\n  File \"/Users/pete/miniconda3/envs/cenv4/lib/python3.6/site-packages/flask/app.py\", line 2292, in wsgi_app\\n    response = self.full_dispatch_request()\\n  File \"/Users/pete/miniconda3/envs/cenv4/lib/python3.6/site-packages/flask/app.py\", line 1815, in full_dispatch_request\\n    rv = self.handle_user_exception(e)\\n  File \"/Users/pete/miniconda3/envs/cenv4/lib/python3.6/site-packages/flask_cors/extension.py\", line 161, in wrapped_function\\n    return cors_after_request(app.make_response(f(*args, **kwargs)))\\n  File \"/Users/pete/miniconda3/envs/cenv4/lib/python3.6/site-packages/flask/app.py\", line 1718, in handle_user_exception\\n    reraise(exc_type, exc_value, tb)\\n  File \"/Users/pete/miniconda3/envs/cenv4/lib/python3.6/site-packages/flask/_compat.py\", line 35, in reraise\\n    raise value\\n  File \"/Users/pete/miniconda3/envs/cenv4/lib/python3.6/site-packages/flask/app.py\", line 1813, in full_dispatch_request\\n    rv = self.dispatch_request()\\n  File \"/Users/pete/miniconda3/envs/cenv4/lib/python3.6/site-packages/flask/app.py\", line 1799, in dispatch_request\\n    return self.view_functions[rule.endpoint](**req.view_args)\\n  File \"/Users/pete/projects/higlass-python/higlass/server.py\", line 207, in tiles\\n    tiles.extend(ts.tiles(tids))\\n  File \"/Users/pete/projects/higlass-python/higlass/tilesets.py\", line 43, in tiles\\n    return self.tiles_fn(tile_ids)\\n  File \"/Users/pete/projects/higlass-python/higlass/tilesets.py\", line 51, in <lambda>\\n    tiles=lambda tids: hgco.tiles(filepath, tids),\\n  File \"/Users/pete/projects/clodius/clodius/tiles/cooler.py\", line 559, in tiles\\n    generated_tiles = generate_tiles(filepath, new_tile_ids)\\n  File \"/Users/pete/projects/clodius/clodius/tiles/cooler.py\", line 590, in generate_tiles\\n    make_mats(filepath)\\n  File \"/Users/pete/projects/clodius/clodius/tiles/cooler.py\", line 456, in make_mats\\n    f = h5py.File(filepath, \\'r\\')\\n  File \"/Users/pete/miniconda3/envs/cenv4/lib/python3.6/site-packages/h5py/_hl/files.py\", line 272, in __init__\\n    fid = make_fid(name, mode, userblock_size, fapl, swmr=swmr)\\n  File \"/Users/pete/miniconda3/envs/cenv4/lib/python3.6/site-packages/h5py/_hl/files.py\", line 92, in make_fid\\n    fid = h5f.open(name, flags, fapl=fapl)\\n  File \"h5py/_objects.pyx\", line 54, in h5py._objects.with_phil.wrapper (/private/var/folders/my/m6ynh3bn6tq06h7xr3js0z7r0000gn/T/pip-z0d9zbgm-build/h5py/_objects.c:2853)\\n    \\n  File \"h5py/_objects.pyx\", line 55, in h5py._objects.with_phil.wrapper (/private/var/folders/my/m6ynh3bn6tq06h7xr3js0z7r0000gn/T/pip-z0d9zbgm-build/h5py/_objects.c:2811)\\n    \\n  File \"h5py/h5f.pyx\", line 76, in h5py.h5f.open (/private/var/folders/my/m6ynh3bn6tq06h7xr3js0z7r0000gn/T/pip-z0d9zbgm-build/h5py/h5f.c:2099)\\n    \\nOSError: Unable to open file (Unable to open file: name = \\'/tmp/higlass-python/hpps////s3.amazonaws.com/pkerp/public/dixon2012-j1-ncoi-r1-filtered.100kb.multires.cool..\\', errno = 6, error message = \\'device not configured\\', flags = 0, o_flags = 0)\\n\\n-->\\n'\n"
     ]
    }
   ],
   "source": [
    "url = 'http://localhost:{}/api/v1/tiles/?d={}.2.0.0&d={}.2.1.0&d={}.2.1.2'.format(server.port, uid, uid, uid)\n",
    "#url = \"http://localhost:8111/wgEncodeCaltechRnaSeqHuvecR1x75dTh1014IlnaPlusSignalRep2.bigWig\"\n",
    "req = requests.get(url)\n",
    "print('req', req.content)"
   ]
  },
  {
   "cell_type": "code",
   "execution_count": 25,
   "metadata": {},
   "outputs": [
    {
     "data": {
      "text/plain": [
       "'{\"editable\": true, \"views\": [{\"uid\": \"Cs0jaHTuQXuibqx36Ew1xg\", \"tracks\": {\"top\": [{\"type\": \"horizontal-bar\", \"options\": {}, \"server\": \"http://localhost:55640/api/v1\", \"fileUrl\": \"http://hgdownload.cse.ucsc.edu/goldenpath/hg19/encodeDCC/wgEncodeSydhTfbs/wgEncodeSydhTfbsGm12878InputStdSig.bigWig\", \"filetype\": \"bigwig\"}], \"center\": [], \"left\": [], \"right\": [], \"bottom\": []}, \"layout\": {\"w\": 12, \"h\": 6, \"x\": 0, \"y\": 0}}], \"trackSourceServers\": [\"http://higlass.io/api/v1\"], \"locationLocks\": {\"locksByViewUid\": {}, \"locksDict\": {}}, \"zoomLocks\": {\"locksByViewUid\": {}, \"locksDict\": {}}, \"exportViewUrl\": \"http://higlass.io/api/v1/viewconfs\"}'"
      ]
     },
     "execution_count": 25,
     "metadata": {},
     "output_type": "execute_result"
    }
   ],
   "source": [
    "import higlass.client as hgc\n",
    "import higlass.tilesets as hfti\n",
    "\n",
    "ts1 = hfti.bigwig('http://hgdownload.cse.ucsc.edu/goldenpath/hg19/encodeDCC/wgEncodeSydhTfbs/wgEncodeSydhTfbsGm12878InputStdSig.bigWig')\n",
    "\n",
    "tr1 = hgc.Track('horizontal-bar', \n",
    "                server=server.api_address,\n",
    "                filetype='bigwig',\n",
    "                file_url='http://hgdownload.cse.ucsc.edu/goldenpath/hg19/encodeDCC/wgEncodeSydhTfbs/wgEncodeSydhTfbsGm12878InputStdSig.bigWig')\n",
    "view1 = hgc.View([tr1])\n",
    "vc = hgc.ViewConf([view1])\n",
    "\n",
    "import json\n",
    "json.dumps(vc.to_json())"
   ]
  },
  {
   "cell_type": "code",
   "execution_count": 52,
   "metadata": {
    "collapsed": true
   },
   "outputs": [],
   "source": [
    "import higlass\n",
    "import higlass.client as hgc\n",
    "import higlass.tilesets as hti\n",
    "\n",
    "ts1 = hti.cooler('../data/Dixon2012-J1-NcoI-R1-filtered.100kb.multires.cool')\n",
    "\n",
    "tr1 = hgc.Track('top-axis')\n",
    "tr2 = hgc.Track('heatmap', tileset=ts1, height=100)\n",
    "#higlass.display([hgc.View([tr1, tr2])])()"
   ]
  },
  {
   "cell_type": "code",
   "execution_count": null,
   "metadata": {
    "collapsed": true
   },
   "outputs": [],
   "source": [
    "import higlass.tilesets as hfti\n",
    "\n",
    "ts = hfti.mmatrix('../data/int_matrices.hdf5')\n",
    "\n",
    "tr1 = hgc.Track('top-axis')\n",
    "tr2 = hgc.Track('heatmap', tileset=ts, height=200)\n",
    "\n",
    "(server, display) = higlass.display([hgc.View([tr1, tr2])])\n",
    "\n",
    "display"
   ]
  },
  {
   "cell_type": "code",
   "execution_count": null,
   "metadata": {
    "collapsed": true
   },
   "outputs": [],
   "source": [
    "height=200\n",
    "\n",
    "tr0 = hgc.Track('top-axis')\n",
    "tr1 = hgc.Track('osm-tiles', height=height)\n",
    "\n",
    "view1 = hgc.View([tr0, tr1], width=6)\n",
    "ts = hfti.mmatrix('../data/int_matrices.hdf5')\n",
    "\n",
    "tr1 = hgc.Track('top-axis')\n",
    "tr2 = hgc.Track('heatmap', tileset=ts, height=height)\n",
    "view2 = hgc.View([tr1, tr2], x=6, y=0, width=6)\n",
    "\n",
    "(server, display) = higlass.display([view1, view2], \n",
    "                                    location_sync=[view1, view2],\n",
    "                                    zoom_sync = [view1, view2])\n",
    "display"
   ]
  },
  {
   "cell_type": "code",
   "execution_count": null,
   "metadata": {
    "collapsed": true
   },
   "outputs": [],
   "source": [
    "height=200\n",
    "\n",
    "tr0 = hgc.Track('top-axis')\n",
    "tr1 = hgc.Track('heatmap', tileset=ts, height=height)\n",
    "\n",
    "view1 = hgc.View([tr0, tr1], width=6)\n",
    "ts = hfti.mmatrix('../data/int_matrices.hdf5')\n",
    "\n",
    "tr1 = hgc.Track('top-axis')\n",
    "tr2 = hgc.Track('heatmap', tileset=ts, height=height)\n",
    "view2 = hgc.View([tr1, tr2], x=6, y=0, width=6)\n",
    "\n",
    "(server, display) = higlass.display([view1, view2], \n",
    "                                    zoom_sync = [view1, view2])\n",
    "display"
   ]
  },
  {
   "cell_type": "code",
   "execution_count": null,
   "metadata": {
    "collapsed": true
   },
   "outputs": [],
   "source": [
    "ts1 = hfti.bigwig('http://hgdownload.cse.ucsc.edu/goldenpath/hg19/encodeDCC/wgEncodeSydhTfbs/wgEncodeSydhTfbsGm12878InputStdSig.bigWig')\n",
    "\n",
    "tr1 = hgc.Track('horizontal-bar', tileset=ts1)\n",
    "view1 = hgc.View([tr1])\n",
    "(server, display) = higlass.display([view1])\n",
    "\n",
    "display"
   ]
  },
  {
   "cell_type": "code",
   "execution_count": null,
   "metadata": {
    "collapsed": true
   },
   "outputs": [],
   "source": [
    "%%time \n",
    "\n",
    "x = server.tiles(ts1.uuid, 0, 0, 0)"
   ]
  },
  {
   "cell_type": "code",
   "execution_count": null,
   "metadata": {
    "collapsed": true
   },
   "outputs": [],
   "source": [
    "%%time\n",
    "\n",
    "import bbi\n",
    "\n",
    "a = [bbi.fetch('http://hgdownload.cse.ucsc.edu/goldenpath/hg19/encodeDCC/wgEncodeSydhTfbs/wgEncodeSydhTfbsGm12878InputStdSig.bigWig',\n",
    "         c, 1, 100000000, 100) \n",
    "     for c in ['chr1', 'chr2', 'chr3', 'chr4', 'chr5', 'chr6']]"
   ]
  },
  {
   "cell_type": "code",
   "execution_count": null,
   "metadata": {
    "collapsed": true
   },
   "outputs": [],
   "source": [
    "%%time\n",
    "from multiprocessing import Pool\n",
    "\n",
    "p = Pool(16)\n",
    "\n",
    "def fun(x):\n",
    "    import bbi\n",
    "    \n",
    "    return bbi.fetch('http://hgdownload.cse.ucsc.edu/goldenpath/hg19/encodeDCC/wgEncodeSydhTfbs/wgEncodeSydhTfbsGm12878InputStdSig.bigWig',\n",
    "         x, 1, 50000000, 100) \n",
    "\n",
    "\n",
    "chroms = ['chr{}'.format(i) for i in range(1, 16)]\n",
    "x = p.map(fun, chroms)"
   ]
  },
  {
   "cell_type": "code",
   "execution_count": null,
   "metadata": {
    "collapsed": true
   },
   "outputs": [],
   "source": [
    "%%time \n",
    "\n",
    "for chrom in chroms:\n",
    "    bbi.fetch('http://hgdownload.cse.ucsc.edu/goldenpath/hg19/encodeDCC/wgEncodeSydhTfbs/wgEncodeSydhTfbsGm12878InputStdSig.bigWig',\n",
    "         chrom, 1, 100000000, 100)"
   ]
  },
  {
   "cell_type": "code",
   "execution_count": null,
   "metadata": {
    "collapsed": true
   },
   "outputs": [],
   "source": []
  },
  {
   "cell_type": "code",
   "execution_count": null,
   "metadata": {
    "collapsed": true
   },
   "outputs": [],
   "source": []
  },
  {
   "cell_type": "code",
   "execution_count": null,
   "metadata": {
    "collapsed": true
   },
   "outputs": [],
   "source": []
  },
  {
   "cell_type": "code",
   "execution_count": 124,
   "metadata": {},
   "outputs": [
    {
     "name": "stdout",
     "output_type": "stream",
     "text": [
      "32\n"
     ]
    }
   ],
   "source": [
    "import hashlib as hl\n",
    "m=hl.sha256()\n",
    "m.update('hi'.encode('utf8'))\n",
    "print(len(m.digest()))"
   ]
  },
  {
   "cell_type": "markdown",
   "metadata": {
    "collapsed": true
   },
   "source": [
    "### Random tests"
   ]
  },
  {
   "cell_type": "code",
   "execution_count": 29,
   "metadata": {},
   "outputs": [
    {
     "name": "stdout",
     "output_type": "stream",
     "text": [
      "0\n",
      "1201040023124343\n",
      "\n",
      "\n",
      "\n",
      "\n",
      "\n",
      "\n",
      "\n",
      "\n",
      "\n",
      "\n",
      "\n",
      "\n",
      "\n",
      "\n",
      "\n",
      "42313142\n",
      "\n",
      "\n",
      "\n",
      "\n",
      "\n",
      "\n",
      "\n"
     ]
    }
   ],
   "source": [
    "from concurrent.futures import ThreadPoolExecutor\n",
    "\n",
    "def f1(x):\n",
    "    print(x)\n",
    "    \n",
    "def f2(y):\n",
    "    with ThreadPoolExecutor(max_workers=4) as e:\n",
    "        r = e.map(f1, range(5))\n",
    "    \n",
    "def f3():\n",
    "    with ThreadPoolExecutor(max_workers=4) as e:\n",
    "        r = e.map(f2, range(5))\n",
    "    \n",
    "f3()"
   ]
  },
  {
   "cell_type": "code",
   "execution_count": 25,
   "metadata": {},
   "outputs": [
    {
     "data": {
      "text/plain": [
       "['Barrier',\n",
       " 'BoundedSemaphore',\n",
       " 'BrokenBarrierError',\n",
       " 'Condition',\n",
       " 'Event',\n",
       " 'Lock',\n",
       " 'RLock',\n",
       " 'Semaphore',\n",
       " 'TIMEOUT_MAX',\n",
       " 'Thread',\n",
       " 'ThreadError',\n",
       " 'Timer',\n",
       " 'WeakSet',\n",
       " '_CRLock',\n",
       " '_DummyThread',\n",
       " '_MainThread',\n",
       " '_PyRLock',\n",
       " '_RLock',\n",
       " '__all__',\n",
       " '__builtins__',\n",
       " '__cached__',\n",
       " '__doc__',\n",
       " '__file__',\n",
       " '__loader__',\n",
       " '__name__',\n",
       " '__package__',\n",
       " '__spec__',\n",
       " '_active',\n",
       " '_active_limbo_lock',\n",
       " '_after_fork',\n",
       " '_allocate_lock',\n",
       " '_count',\n",
       " '_counter',\n",
       " '_dangling',\n",
       " '_deque',\n",
       " '_enumerate',\n",
       " '_format_exc',\n",
       " '_islice',\n",
       " '_limbo',\n",
       " '_main_thread',\n",
       " '_newname',\n",
       " '_pickSomeNonDaemonThread',\n",
       " '_profile_hook',\n",
       " '_set_sentinel',\n",
       " '_shutdown',\n",
       " '_start_new_thread',\n",
       " '_sys',\n",
       " '_time',\n",
       " '_trace_hook',\n",
       " 'activeCount',\n",
       " 'active_count',\n",
       " 'currentThread',\n",
       " 'current_thread',\n",
       " 'enumerate',\n",
       " 'get_ident',\n",
       " 'local',\n",
       " 'main_thread',\n",
       " 'setprofile',\n",
       " 'settrace',\n",
       " 'stack_size']"
      ]
     },
     "execution_count": 25,
     "metadata": {},
     "output_type": "execute_result"
    }
   ],
   "source": [
    "import threading as th\n",
    "dir(th)"
   ]
  },
  {
   "cell_type": "code",
   "execution_count": null,
   "metadata": {
    "collapsed": true
   },
   "outputs": [],
   "source": []
  }
 ],
 "metadata": {
  "kernelspec": {
   "display_name": "Python 3",
   "language": "python",
   "name": "python3"
  },
  "language_info": {
   "codemirror_mode": {
    "name": "ipython",
    "version": 3
   },
   "file_extension": ".py",
   "mimetype": "text/x-python",
   "name": "python",
   "nbconvert_exporter": "python",
   "pygments_lexer": "ipython3",
   "version": "3.6.2"
  }
 },
 "nbformat": 4,
 "nbformat_minor": 2
}
