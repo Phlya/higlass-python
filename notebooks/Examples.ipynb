{
 "cells": [
  {
   "cell_type": "code",
   "execution_count": 1,
   "metadata": {},
   "outputs": [],
   "source": [
    "%load_ext autoreload\n",
    "%autoreload 2\n",
    "%matplotlib inline"
   ]
  },
  {
   "cell_type": "code",
   "execution_count": 2,
   "metadata": {},
   "outputs": [
    {
     "name": "stdout",
     "output_type": "stream",
     "text": [
      "self.diskcache_directory /tmp/higlass-python/dc True\n",
      "starting fuse\n",
      "dc_dir /tmp/higlass-python/dc 33554432\n",
      "self.diskcache_directory /tmp/hgflask/dc True\n",
      "starting fuse\n",
      "dc_dir /tmp/hgflask/dc 33554432\n",
      " * Serving Flask app \"higlass.server\" (lazy loading)\n",
      " * Environment: production\n",
      "   WARNING: Do not use the development server in a production environment.\n",
      "   Use a production WSGI server instead.\n",
      " * Debug mode: on\n",
      "read 0 65536\n",
      "read 65536 65536\n",
      "read 302526464 8192\n",
      "read 302100480 45056\n",
      "read 302272512 61440\n",
      "read 302333952 36864\n",
      "read 302387200 40960\n",
      "read 302370816 16384\n",
      "read 302428160 57344\n",
      "read 302485504 40960\n",
      "read 302145536 36864\n",
      "read 302182400 20480\n",
      "read 302202880 16384\n",
      "read 302219264 20480\n",
      "read 302239744 20480\n",
      "read 302260224 12288\n",
      "read 300412928 8192\n",
      "read 300429312 8192\n",
      "read 300056576 24576\n"
     ]
    }
   ],
   "source": [
    "import higlass.server as hgse\n",
    "\n",
    "server = hgse.Server([])\n",
    "server.start()"
   ]
  },
  {
   "cell_type": "code",
   "execution_count": 4,
   "metadata": {},
   "outputs": [
    {
     "name": "stdout",
     "output_type": "stream",
     "text": [
      "url: http://localhost:58873/api/v1/register_url/\n",
      "req b'{\\n  \"Krb4p91ySjaVoH-zciOUcg.2.0\": {\\n    \"dense\": \"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\", \\n    \"dtype\": \"float32\", \\n    \"max_value\": 398.7974634896234, \\n    \"min_value\": 0.5250413362002782\\n  }, \\n  \"Krb4p91ySjaVoH-zciOUcg.2.1\": {\\n    \"dense\": \"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\", \\n    \"dtype\": \"float32\", \\n    \"max_value\": 10.850324878732842, \\n    \"min_value\": 0.3523875420863154\\n  }, \\n  \"Krb4p91ySjaVoH-zciOUcg.2.2\": {\\n    \"dense\": \"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\", \\n    \"dtype\": \"float32\", \\n    \"max_value\": 6.9958371574384675, \\n    \"min_value\": 0.0\\n  }\\n}\\n'\n",
      "CPU times: user 9.71 ms, sys: 1.98 ms, total: 11.7 ms\n",
      "Wall time: 113 ms\n"
     ]
    }
   ],
   "source": [
    "%%time\n",
    "\n",
    "import requests\n",
    "import json\n",
    "\n",
    "url = 'http://localhost:{}/api/v1/register_url/'.format(server.port)\n",
    "print('url:', url)\n",
    "ret = requests.post(url,\n",
    "             json={\n",
    "                 'fileUrl': 'http://hgdownload.cse.ucsc.edu/goldenpath/hg19/encodeDCC/wgEncodeSydhTfbs/wgEncodeSydhTfbsGm12878InputStdSig.bigWig',\n",
    "                 #'fileUrl': 'http://localhost:8111/wgEncodeCaltechRnaSeqHuvecR1x75dTh1014IlnaPlusSignalRep2.bigWig',\n",
    "                 'filetype': \"bigwig\"\n",
    "             })\n",
    "uid = json.loads(ret.content)['uid']\n",
    "url = 'http://localhost:{}/api/v1/tiles/?d={}.2.0&d={}.2.1&d={}.2.2'.format(server.port, uid, uid, uid)\n",
    "#url = \"http://localhost:8111/wgEncodeCaltechRnaSeqHuvecR1x75dTh1014IlnaPlusSignalRep2.bigWig\"\n",
    "req = requests.get(url)\n",
    "print('req', req.content)\n",
    "\n",
    "\"\"\"\n",
    "url = 'http://localhost:{}/api/v1/tileset_info/?d={}'.format(server.port, uid)\n",
    "print('url:', url);\n",
    "req = requests.get(url)\n",
    "print('req', req.content)\n",
    "\"\"\""
   ]
  },
  {
   "cell_type": "code",
   "execution_count": 25,
   "metadata": {},
   "outputs": [
    {
     "data": {
      "text/plain": [
       "'{\"editable\": true, \"views\": [{\"uid\": \"Cs0jaHTuQXuibqx36Ew1xg\", \"tracks\": {\"top\": [{\"type\": \"horizontal-bar\", \"options\": {}, \"server\": \"http://localhost:55640/api/v1\", \"fileUrl\": \"http://hgdownload.cse.ucsc.edu/goldenpath/hg19/encodeDCC/wgEncodeSydhTfbs/wgEncodeSydhTfbsGm12878InputStdSig.bigWig\", \"filetype\": \"bigwig\"}], \"center\": [], \"left\": [], \"right\": [], \"bottom\": []}, \"layout\": {\"w\": 12, \"h\": 6, \"x\": 0, \"y\": 0}}], \"trackSourceServers\": [\"http://higlass.io/api/v1\"], \"locationLocks\": {\"locksByViewUid\": {}, \"locksDict\": {}}, \"zoomLocks\": {\"locksByViewUid\": {}, \"locksDict\": {}}, \"exportViewUrl\": \"http://higlass.io/api/v1/viewconfs\"}'"
      ]
     },
     "execution_count": 25,
     "metadata": {},
     "output_type": "execute_result"
    }
   ],
   "source": [
    "import higlass.client as hgc\n",
    "import higlass.tilesets as hfti\n",
    "\n",
    "ts1 = hfti.bigwig('http://hgdownload.cse.ucsc.edu/goldenpath/hg19/encodeDCC/wgEncodeSydhTfbs/wgEncodeSydhTfbsGm12878InputStdSig.bigWig')\n",
    "\n",
    "tr1 = hgc.Track('horizontal-bar', \n",
    "                server=server.api_address,\n",
    "                filetype='bigwig',\n",
    "                file_url='http://hgdownload.cse.ucsc.edu/goldenpath/hg19/encodeDCC/wgEncodeSydhTfbs/wgEncodeSydhTfbsGm12878InputStdSig.bigWig')\n",
    "view1 = hgc.View([tr1])\n",
    "vc = hgc.ViewConf([view1])\n",
    "\n",
    "import json\n",
    "json.dumps(vc.to_json())"
   ]
  },
  {
   "cell_type": "code",
   "execution_count": 52,
   "metadata": {
    "collapsed": true
   },
   "outputs": [],
   "source": [
    "import higlass\n",
    "import higlass.client as hgc\n",
    "import higlass.tilesets as hti\n",
    "\n",
    "ts1 = hti.cooler('../data/Dixon2012-J1-NcoI-R1-filtered.100kb.multires.cool')\n",
    "\n",
    "tr1 = hgc.Track('top-axis')\n",
    "tr2 = hgc.Track('heatmap', tileset=ts1, height=100)\n",
    "#higlass.display([hgc.View([tr1, tr2])])()"
   ]
  },
  {
   "cell_type": "code",
   "execution_count": null,
   "metadata": {
    "collapsed": true
   },
   "outputs": [],
   "source": [
    "import higlass.tilesets as hfti\n",
    "\n",
    "ts = hfti.mmatrix('../data/int_matrices.hdf5')\n",
    "\n",
    "tr1 = hgc.Track('top-axis')\n",
    "tr2 = hgc.Track('heatmap', tileset=ts, height=200)\n",
    "\n",
    "(server, display) = higlass.display([hgc.View([tr1, tr2])])\n",
    "\n",
    "display"
   ]
  },
  {
   "cell_type": "code",
   "execution_count": null,
   "metadata": {
    "collapsed": true
   },
   "outputs": [],
   "source": [
    "height=200\n",
    "\n",
    "tr0 = hgc.Track('top-axis')\n",
    "tr1 = hgc.Track('osm-tiles', height=height)\n",
    "\n",
    "view1 = hgc.View([tr0, tr1], width=6)\n",
    "ts = hfti.mmatrix('../data/int_matrices.hdf5')\n",
    "\n",
    "tr1 = hgc.Track('top-axis')\n",
    "tr2 = hgc.Track('heatmap', tileset=ts, height=height)\n",
    "view2 = hgc.View([tr1, tr2], x=6, y=0, width=6)\n",
    "\n",
    "(server, display) = higlass.display([view1, view2], \n",
    "                                    location_sync=[view1, view2],\n",
    "                                    zoom_sync = [view1, view2])\n",
    "display"
   ]
  },
  {
   "cell_type": "code",
   "execution_count": null,
   "metadata": {
    "collapsed": true
   },
   "outputs": [],
   "source": [
    "height=200\n",
    "\n",
    "tr0 = hgc.Track('top-axis')\n",
    "tr1 = hgc.Track('heatmap', tileset=ts, height=height)\n",
    "\n",
    "view1 = hgc.View([tr0, tr1], width=6)\n",
    "ts = hfti.mmatrix('../data/int_matrices.hdf5')\n",
    "\n",
    "tr1 = hgc.Track('top-axis')\n",
    "tr2 = hgc.Track('heatmap', tileset=ts, height=height)\n",
    "view2 = hgc.View([tr1, tr2], x=6, y=0, width=6)\n",
    "\n",
    "(server, display) = higlass.display([view1, view2], \n",
    "                                    zoom_sync = [view1, view2])\n",
    "display"
   ]
  },
  {
   "cell_type": "code",
   "execution_count": null,
   "metadata": {
    "collapsed": true
   },
   "outputs": [],
   "source": [
    "ts1 = hfti.bigwig('http://hgdownload.cse.ucsc.edu/goldenpath/hg19/encodeDCC/wgEncodeSydhTfbs/wgEncodeSydhTfbsGm12878InputStdSig.bigWig')\n",
    "\n",
    "tr1 = hgc.Track('horizontal-bar', tileset=ts1)\n",
    "view1 = hgc.View([tr1])\n",
    "(server, display) = higlass.display([view1])\n",
    "\n",
    "display"
   ]
  },
  {
   "cell_type": "code",
   "execution_count": null,
   "metadata": {
    "collapsed": true
   },
   "outputs": [],
   "source": [
    "%%time \n",
    "\n",
    "x = server.tiles(ts1.uuid, 0, 0, 0)"
   ]
  },
  {
   "cell_type": "code",
   "execution_count": null,
   "metadata": {
    "collapsed": true
   },
   "outputs": [],
   "source": [
    "%%time\n",
    "\n",
    "import bbi\n",
    "\n",
    "a = [bbi.fetch('http://hgdownload.cse.ucsc.edu/goldenpath/hg19/encodeDCC/wgEncodeSydhTfbs/wgEncodeSydhTfbsGm12878InputStdSig.bigWig',\n",
    "         c, 1, 100000000, 100) \n",
    "     for c in ['chr1', 'chr2', 'chr3', 'chr4', 'chr5', 'chr6']]"
   ]
  },
  {
   "cell_type": "code",
   "execution_count": null,
   "metadata": {
    "collapsed": true
   },
   "outputs": [],
   "source": [
    "%%time\n",
    "from multiprocessing import Pool\n",
    "\n",
    "p = Pool(16)\n",
    "\n",
    "def fun(x):\n",
    "    import bbi\n",
    "    \n",
    "    return bbi.fetch('http://hgdownload.cse.ucsc.edu/goldenpath/hg19/encodeDCC/wgEncodeSydhTfbs/wgEncodeSydhTfbsGm12878InputStdSig.bigWig',\n",
    "         x, 1, 50000000, 100) \n",
    "\n",
    "\n",
    "chroms = ['chr{}'.format(i) for i in range(1, 16)]\n",
    "x = p.map(fun, chroms)"
   ]
  },
  {
   "cell_type": "code",
   "execution_count": null,
   "metadata": {
    "collapsed": true
   },
   "outputs": [],
   "source": [
    "%%time \n",
    "\n",
    "for chrom in chroms:\n",
    "    bbi.fetch('http://hgdownload.cse.ucsc.edu/goldenpath/hg19/encodeDCC/wgEncodeSydhTfbs/wgEncodeSydhTfbsGm12878InputStdSig.bigWig',\n",
    "         chrom, 1, 100000000, 100)"
   ]
  },
  {
   "cell_type": "code",
   "execution_count": null,
   "metadata": {
    "collapsed": true
   },
   "outputs": [],
   "source": []
  },
  {
   "cell_type": "code",
   "execution_count": null,
   "metadata": {
    "collapsed": true
   },
   "outputs": [],
   "source": []
  },
  {
   "cell_type": "code",
   "execution_count": null,
   "metadata": {
    "collapsed": true
   },
   "outputs": [],
   "source": []
  },
  {
   "cell_type": "code",
   "execution_count": 124,
   "metadata": {},
   "outputs": [
    {
     "name": "stdout",
     "output_type": "stream",
     "text": [
      "32\n"
     ]
    }
   ],
   "source": [
    "import hashlib as hl\n",
    "m=hl.sha256()\n",
    "m.update('hi'.encode('utf8'))\n",
    "print(len(m.digest()))"
   ]
  },
  {
   "cell_type": "markdown",
   "metadata": {
    "collapsed": true
   },
   "source": [
    "### Random tests"
   ]
  },
  {
   "cell_type": "code",
   "execution_count": 29,
   "metadata": {},
   "outputs": [
    {
     "name": "stdout",
     "output_type": "stream",
     "text": [
      "0\n",
      "1201040023124343\n",
      "\n",
      "\n",
      "\n",
      "\n",
      "\n",
      "\n",
      "\n",
      "\n",
      "\n",
      "\n",
      "\n",
      "\n",
      "\n",
      "\n",
      "\n",
      "42313142\n",
      "\n",
      "\n",
      "\n",
      "\n",
      "\n",
      "\n",
      "\n"
     ]
    }
   ],
   "source": [
    "from concurrent.futures import ThreadPoolExecutor\n",
    "\n",
    "def f1(x):\n",
    "    print(x)\n",
    "    \n",
    "def f2(y):\n",
    "    with ThreadPoolExecutor(max_workers=4) as e:\n",
    "        r = e.map(f1, range(5))\n",
    "    \n",
    "def f3():\n",
    "    with ThreadPoolExecutor(max_workers=4) as e:\n",
    "        r = e.map(f2, range(5))\n",
    "    \n",
    "f3()"
   ]
  },
  {
   "cell_type": "code",
   "execution_count": 25,
   "metadata": {},
   "outputs": [
    {
     "data": {
      "text/plain": [
       "['Barrier',\n",
       " 'BoundedSemaphore',\n",
       " 'BrokenBarrierError',\n",
       " 'Condition',\n",
       " 'Event',\n",
       " 'Lock',\n",
       " 'RLock',\n",
       " 'Semaphore',\n",
       " 'TIMEOUT_MAX',\n",
       " 'Thread',\n",
       " 'ThreadError',\n",
       " 'Timer',\n",
       " 'WeakSet',\n",
       " '_CRLock',\n",
       " '_DummyThread',\n",
       " '_MainThread',\n",
       " '_PyRLock',\n",
       " '_RLock',\n",
       " '__all__',\n",
       " '__builtins__',\n",
       " '__cached__',\n",
       " '__doc__',\n",
       " '__file__',\n",
       " '__loader__',\n",
       " '__name__',\n",
       " '__package__',\n",
       " '__spec__',\n",
       " '_active',\n",
       " '_active_limbo_lock',\n",
       " '_after_fork',\n",
       " '_allocate_lock',\n",
       " '_count',\n",
       " '_counter',\n",
       " '_dangling',\n",
       " '_deque',\n",
       " '_enumerate',\n",
       " '_format_exc',\n",
       " '_islice',\n",
       " '_limbo',\n",
       " '_main_thread',\n",
       " '_newname',\n",
       " '_pickSomeNonDaemonThread',\n",
       " '_profile_hook',\n",
       " '_set_sentinel',\n",
       " '_shutdown',\n",
       " '_start_new_thread',\n",
       " '_sys',\n",
       " '_time',\n",
       " '_trace_hook',\n",
       " 'activeCount',\n",
       " 'active_count',\n",
       " 'currentThread',\n",
       " 'current_thread',\n",
       " 'enumerate',\n",
       " 'get_ident',\n",
       " 'local',\n",
       " 'main_thread',\n",
       " 'setprofile',\n",
       " 'settrace',\n",
       " 'stack_size']"
      ]
     },
     "execution_count": 25,
     "metadata": {},
     "output_type": "execute_result"
    }
   ],
   "source": [
    "import threading as th\n",
    "dir(th)"
   ]
  },
  {
   "cell_type": "code",
   "execution_count": null,
   "metadata": {
    "collapsed": true
   },
   "outputs": [],
   "source": []
  }
 ],
 "metadata": {
  "kernelspec": {
   "display_name": "Python 3",
   "language": "python",
   "name": "python3"
  },
  "language_info": {
   "codemirror_mode": {
    "name": "ipython",
    "version": 3
   },
   "file_extension": ".py",
   "mimetype": "text/x-python",
   "name": "python",
   "nbconvert_exporter": "python",
   "pygments_lexer": "ipython3",
   "version": "3.6.2"
  }
 },
 "nbformat": 4,
 "nbformat_minor": 2
}
